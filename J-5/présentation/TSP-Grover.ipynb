{
 "cells": [
  {
   "cell_type": "markdown",
   "id": "f94bd7c3fc37c92c",
   "metadata": {},
   "source": [
    "## 💡 Formulation logique d’une variante du TSP sur 5 États américains\n",
    "\n",
    "On modélise un ensemble de contraintes logiques portant sur 5 États :\n",
    "\n",
    "- `c` = California\n",
    "- `t` = Texas\n",
    "- `f` = Florida\n",
    "- `n` = New York\n",
    "- `i` = Illinois\n",
    "\n",
    "---\n",
    "\n",
    "### 🔢 Ensemble initial de 8 clauses (forme CNF)\n",
    "\n",
    "Voici les contraintes du problème, formulées en logique propositionnelle :\n",
    "\n",
    "1. `¬c ∨ ¬f`    # Si tu vas en Californie, tu ne vas pas en Floride\n",
    "2. `¬n ∨ i`    # Si tu vas à New York, tu dois aussi aller en Illinois\n",
    "3. `¬t ∨ ¬n`    # Si tu vas au Texas, tu ne vas pas à New York\n",
    "4. `f ∨ ¬t`    # Si tu ne vas pas en Floride, tu ne vas pas au Texas\n",
    "5. `¬i ∨ ¬c`    # Si tu vas en Illinois, tu ne peux pas aller en Californie\n",
    "6. `¬f ∨ t`    # Si tu vas en Floride, tu dois aller au Texas\n",
    "7. `¬c ∨ t`    # Si tu vas en Californie, tu dois aller au Texas\n",
    "8. `¬n ∨ ¬f`    # Si tu vas à New York, tu ne vas pas en Floride\n",
    "\n",
    "---\n",
    "\n",
    "### ✅ Version simplifiée à 4 clauses\n",
    "\n",
    "En appliquant des règles de simplification logique (absorption, équivalence, dominance), on obtient la version réduite suivante :\n",
    "\n",
    "1. `¬f ∨ t`    # Si tu vas en Floride, tu dois aller au Texas\n",
    "2. `¬i ∨ ¬c`    # Si tu vas en Illinois, tu ne peux pas aller en Californie\n",
    "3. `¬n ∨ ¬f`    # Si tu vas à New York, tu ne vas pas en Floride\n",
    "4. `¬n ∨ i`    # Si tu vas à New York, tu dois aussi aller en Illinois\n",
    "\n",
    "---\n",
    "\n",
    "Ces 4 clauses suffisent à **exprimer toutes les contraintes** du problème initial. Elles sont **logiquement équivalentes à l’ensemble complet des 8**, mais permettent une analyse plus rapide et plus efficace (par exemple avec l’algorithme de Grover).\n"
   ]
  },
  {
   "cell_type": "code",
   "id": "767ca6df25db4729",
   "metadata": {
    "ExecuteTime": {
     "end_time": "2025-05-09T17:01:27.598062Z",
     "start_time": "2025-05-09T17:01:27.589400Z"
    }
   },
   "source": [
    "from qiskit import QuantumCircuit, QuantumRegister, ClassicalRegister\n",
    "from qiskit.visualization import plot_histogram\n",
    "from qiskit.circuit.library import XGate, ZGate\n",
    "import sys\n",
    "sys.path.append('./J-3/grover-team-2/Grover_Jupyter-Notebook')\n",
    "from utils import get_disjunction_control_state, get_disjunction_qubits\n",
    "from qiskit_ibm_runtime import QiskitRuntimeService\n",
    "from qiskit import QuantumCircuit, transpile\n",
    "from qiskit_aer import AerSimulator\n",
    "from qiskit.visualization import plot_histogram\n",
    "\n",
    "QiskitRuntimeService.save_account(channel=\"ibm_quantum\", token=\"19619dda4c21bed9d93987a1c7418ee5f18b7f43f18fc33db8eb472575ad75790054b5ec870cf0cc8e538fa6f054eca8b0ce4b5056c791a10b5efc51142c6f01\", overwrite=True)"
   ],
   "outputs": [],
   "execution_count": 6
  },
  {
   "cell_type": "markdown",
   "id": "f157c6133d1b6961",
   "metadata": {},
   "source": "## Implémentation de la solution de Grover"
  },
  {
   "cell_type": "code",
   "id": "41e1b39612330901",
   "metadata": {
    "ExecuteTime": {
     "end_time": "2025-05-09T17:01:27.614726Z",
     "start_time": "2025-05-09T17:01:27.605823Z"
    }
   },
   "source": [
    "clauses = []\n",
    "# Si tu vas en Californie, tu ne vas pas en Floride\n",
    "clauses.append({'x1' : False, 'x0' : False})\n",
    "# Si tu vas à New York, tu dois aussi aller en Illinois\n",
    "clauses.append({'x2' : False, 'x4' : True})\n",
    "# Si tu vas au Texas, tu ne vas pas à New York\n",
    "clauses.append({'x3' : False, 'x2' : False})\n",
    "# Si tu ne vas pas en Floride, tu ne vas pas au Texas\n",
    "clauses.append({'x1' : True, 'x3' : False})\n",
    "# Si tu vas en Illinois, tu ne peux pas aller en Californie\n",
    "clauses.append({'x4' : False, 'x0' : False})\n",
    "# Si tu vas en Floride, tu dois aller au Texas\n",
    "clauses.append({'x1' : False, 'x3' : False})\n",
    "# Si tu vas en Californie, tu dois aller au Texas\n",
    "clauses.append({'x0' : False, 'x3' : True})\n",
    "clauses.append({'x4' : False})\n",
    "# Si tu vas à New York, tu ne vas pas en Floride\n",
    "clauses.append({'x2' : False, 'x1' : False})\n",
    "clauses.append({'x1' : False, 'x0' : False, 'x3': True})    # ¬F ∨ ¬C ∨ T\n",
    "clauses.append({'x2' : False, 'x4' : True, 'x1': False})    # ¬N ∨ I ∨ ¬F\n",
    "clauses.append({'x3' : False, 'x2' : False, 'x0': True})    # ¬T ∨ ¬N ∨ C\n",
    "clauses.append({'x1' : True, 'x3' : False, 'x4': False})    # F ∨ ¬T ∨ ¬I\n",
    "clauses.append({'x4' : False, 'x0' : False, 'x1': True})    # ¬I ∨ ¬C ∨ F\n",
    "clauses.append({'x1' : False, 'x3' : False, 'x2': True})    # ¬F ∨ T ∨ N\n",
    "clauses.append({'x0' : False, 'x3' : True, 'x2': True})     # ¬C ∨ T ∨ N\n",
    "clauses.append({'x2' : False, 'x1' : False, 'x0': False})   # ¬N ∨ ¬F ∨ ¬C\n"
   ],
   "outputs": [],
   "execution_count": 7
  },
  {
   "cell_type": "code",
   "id": "bd05ec2f155c3645",
   "metadata": {
    "ExecuteTime": {
     "end_time": "2025-05-09T17:01:27.632689Z",
     "start_time": "2025-05-09T17:01:27.628072Z"
    }
   },
   "source": [
    "nb_variables = 5"
   ],
   "outputs": [],
   "execution_count": 8
  },
  {
   "cell_type": "code",
   "id": "627d974635255ff0",
   "metadata": {
    "ExecuteTime": {
     "end_time": "2025-05-09T17:01:27.652529Z",
     "start_time": "2025-05-09T17:01:27.646245Z"
    }
   },
   "source": [
    "# Transformer une disjonction en une porte\n",
    "def logical_disjunction_to_gate(disj_clause):\n",
    "    # Nombre de variables dans la clause\n",
    "    nb_disj_variables = len(disj_clause)\n",
    "\n",
    "    # Nombre de qubits dans la porte de disjonction (nb_variables + 1 qubit ancillaire)\n",
    "    nb_qubits = nb_disj_variables + 1\n",
    "    disj_qc = QuantumCircuit(nb_qubits)\n",
    "    qubits = disj_qc.qubits\n",
    "\n",
    "    # Obtenir le bon état de controle pour la porte multi-controle X\n",
    "    ctrl_state = get_disjunction_control_state(disj_clause)\n",
    "\n",
    "    # Créer une porte multi-controle X avec le bon nombre de qubits\n",
    "    mc_xgate = XGate().control(num_ctrl_qubits=nb_disj_variables, ctrl_state = ctrl_state)\n",
    "    disj_qc.append(mc_xgate, qubits)\n",
    "\n",
    "    # Ajouter une porte X au qubit à la position -1 (dernière), le qubit ancillaire\n",
    "    disj_qc.x(qubits[-1])\n",
    "\n",
    "    # Transformer le circuit de disjonction en une porte avec un nom, mcx\n",
    "    disj_gate = disj_qc.to_gate(label='mcx')\n",
    "    return disj_gate"
   ],
   "outputs": [],
   "execution_count": 9
  },
  {
   "cell_type": "code",
   "id": "9f471ae72c593caf",
   "metadata": {
    "ExecuteTime": {
     "end_time": "2025-05-09T17:01:27.669642Z",
     "start_time": "2025-05-09T17:01:27.664384Z"
    }
   },
   "source": [
    "def circuit_clauses(clauses, var_qubits, clause_qubits):\n",
    "    clauses_circuit =QuantumCircuit(var_qubits, clause_qubits)\n",
    "\n",
    "    # Ajouter chaque clause de disjonction comme une porte :\n",
    "    for i in range(len(clauses)):\n",
    "        # Convertir la disjonction en porte\n",
    "        gate = logical_disjunction_to_gate(clauses[i])\n",
    "        # Sélectionner les qubits associés à la clause\n",
    "        c_qubits = get_disjunction_qubits(clauses[i], clause_qubits[i], var_qubits)\n",
    "        # Ajouter la porte au circuit de clauses\n",
    "        clauses_circuit.append(gate, c_qubits)\n",
    "\n",
    "    return clauses_circuit"
   ],
   "outputs": [],
   "execution_count": 10
  },
  {
   "cell_type": "code",
   "id": "54b6990c852ddca8",
   "metadata": {
    "ExecuteTime": {
     "end_time": "2025-05-09T17:01:27.688137Z",
     "start_time": "2025-05-09T17:01:27.681575Z"
    }
   },
   "source": [
    "def oracle(clauses_circuit):\n",
    "    # Récupère les registres depuis clauses_circuit\n",
    "    var_qubits = clauses_circuit.qregs[0]\n",
    "    clause_qubits = clauses_circuit.qregs[1]\n",
    "\n",
    "    # Crée un circuit oracle avec les mêmes registres\n",
    "    oracle_circuit = QuantumCircuit(var_qubits, clause_qubits)\n",
    "\n",
    "    # Appliquer le circuit de clauses\n",
    "    oracle_circuit.append(clauses_circuit.to_gate(label='clauses_circuit'), clauses_circuit.qubits)\n",
    "\n",
    "    ancilla = QuantumRegister(1, name=\"anc\")\n",
    "    oracle_circuit.add_register(ancilla)\n",
    "    all_qubits = clause_qubits[:] + [ancilla[0]]\n",
    "    mc_z_gate = ZGate().control(len(clause_qubits))\n",
    "    oracle_circuit.append(mc_z_gate, all_qubits)\n",
    "\n",
    "    # Appliquer l'inverse du circuit de clauses\n",
    "    oracle_circuit.append(clauses_circuit.to_gate(label='clauses_circuit').inverse(), clauses_circuit.qubits)\n",
    "\n",
    "    return oracle_circuit\n"
   ],
   "outputs": [],
   "execution_count": 11
  },
  {
   "cell_type": "code",
   "id": "dddc977528d77128",
   "metadata": {
    "ExecuteTime": {
     "end_time": "2025-05-09T17:01:27.705123Z",
     "start_time": "2025-05-09T17:01:27.699013Z"
    }
   },
   "source": [
    " def diffuser():\n",
    "    var_qubits = QuantumRegister(nb_variables, name='x')\n",
    "    clause_qubits = QuantumRegister(len(clauses), name='c')\n",
    "    # Construire le circuit de diffuseur\n",
    "    diffuser_circuit = QuantumCircuit(var_qubits)\n",
    "\n",
    "    # Ajouter des portes H et X pour chaque qubit du diffuseur\n",
    "    ### 4 portes H pour les variables\n",
    "    diffuser_circuit.h([0,1,2,3,4])\n",
    "    ### 4 portes X pour les variables\n",
    "    diffuser_circuit.x([0,1,2,3,4])\n",
    "    # Ajouter une multi-controle Z\n",
    "    mc_z_gate = ZGate().control(nb_variables - 1)\n",
    "    diffuser_circuit.append(mc_z_gate, var_qubits)\n",
    "\n",
    "    # Ajouter des portes X et H pour chaque qubit du diffuseur\n",
    "    ### 4 portes X pour les variables\n",
    "    diffuser_circuit.x([0,1,2,3,4])\n",
    "    ### 4 portes H pour les variables\n",
    "    diffuser_circuit.h([0,1,2,3,4])\n",
    "\n",
    "    # Afficher le circuit\n",
    "    diffuser_circuit.draw(output='mpl')\n",
    "    return diffuser_circuit"
   ],
   "outputs": [],
   "execution_count": 12
  },
  {
   "cell_type": "code",
   "id": "3617cdf61d73e32c",
   "metadata": {
    "ExecuteTime": {
     "end_time": "2025-05-09T17:01:27.723467Z",
     "start_time": "2025-05-09T17:01:27.716715Z"
    }
   },
   "source": [
    "def grover(clauses):\n",
    "    var_qubits = QuantumRegister(nb_variables, name='x')\n",
    "    clause_qubits = QuantumRegister(len(clauses), name='c')\n",
    "    clauses_circuit = circuit_clauses(clauses, var_qubits, clause_qubits)\n",
    "    oracle_circuit = oracle(clauses_circuit)\n",
    "    diffuser_circuit = diffuser()\n",
    "    # Construire le circuit de Grover\n",
    "    c_bits = ClassicalRegister(nb_variables)\n",
    "    grover_circuit = QuantumCircuit(var_qubits, clause_qubits, c_bits)\n",
    "\n",
    "    # Ajouter des portes H pour chaque variable\n",
    "    grover_circuit.h([0,1,2,3,4])\n",
    "\n",
    "    # Identifier le nombre d'iterations\n",
    "    nb_iterations = 5 # Jouez avec le nombre d'itérations pour en voir l'effet\n",
    "    ancilla = QuantumRegister(1, name=\"anc\")\n",
    "    grover_circuit.add_register(ancilla)\n",
    "    # Ajouter autant d'oracles et de diffuseurs qu'il y a de nombre d'itérations\n",
    "    for it in range(nb_iterations):\n",
    "        grover_circuit.append(oracle_circuit.to_gate(label='oracle'), grover_circuit.qubits)\n",
    "        grover_circuit.barrier(grover_circuit.qubits)\n",
    "        oracle_gate = oracle_circuit.to_gate(label='oracle')\n",
    "        grover_circuit.append(oracle_circuit.to_gate(label='oracle'), var_qubits[:] + clause_qubits[:] + ancilla[:])\n",
    "\n",
    "\n",
    "    # Ajouter les mesures pour l'evaluation du circuit\n",
    "    grover_circuit.measure(var_qubits, c_bits)\n",
    "\n",
    "    # Afficher le circuit\n",
    "    return grover_circuit"
   ],
   "outputs": [],
   "execution_count": 13
  },
  {
   "cell_type": "code",
   "id": "1c994b2dc6bde40",
   "metadata": {
    "ExecuteTime": {
     "end_time": "2025-05-09T17:01:27.738573Z",
     "start_time": "2025-05-09T17:01:27.733620Z"
    }
   },
   "source": [
    "def run_circuit(circ: QuantumCircuit):\n",
    "    simulator = AerSimulator()\n",
    "\n",
    "    # Transpilation pour le simulateur\n",
    "    transpiled_circ = transpile(circ, simulator)\n",
    "\n",
    "    # Exécution\n",
    "    job = simulator.run(transpiled_circ, shots=3000)\n",
    "    result = job.result()\n",
    "\n",
    "    counts = result.get_counts()\n",
    "    return counts"
   ],
   "outputs": [],
   "execution_count": 14
  },
  {
   "metadata": {},
   "cell_type": "markdown",
   "source": "### Solution de base de Grover",
   "id": "d4f246c07822d1ee"
  },
  {
   "cell_type": "code",
   "id": "bd3c83cd7ea971c3",
   "metadata": {
    "ExecuteTime": {
     "end_time": "2025-05-09T17:01:40.489156Z",
     "start_time": "2025-05-09T17:01:27.750948Z"
    }
   },
   "source": [
    "grover_circuit = grover(clauses)\n",
    "counts = run_circuit(grover_circuit)\n",
    "grover_circuit.decompose(gates_to_decompose=['oracle', 'clauses_circuit', 'diffusor', 'mcx'], reps=3).draw(output='mpl',scale=0.2)\n",
    "plot_histogram(counts)"
   ],
   "outputs": [
    {
     "data": {
      "text/plain": [
       "<Figure size 640x480 with 1 Axes>"
      ],
      "image/png": "[encoded data removed]"
     },
     "execution_count": 15,
     "metadata": {},
     "output_type": "execute_result"
    }
   ],
   "execution_count": 15
  },
  {
   "metadata": {},
   "cell_type": "markdown",
   "source": "### Solution optimisée avec l'algèbre booléene",
   "id": "1aa39f893b7958f4"
  },
  {
   "cell_type": "code",
   "id": "c1b88ae35895e470",
   "metadata": {
    "ExecuteTime": {
     "end_time": "2025-05-09T17:01:40.552945Z",
     "start_time": "2025-05-09T17:01:40.541375Z"
    }
   },
   "source": [
    "improved_clauses = []\n",
    "improved_clauses.append({'x1' : False, 'x0' : False})\n",
    "# Si tu vas à New York, tu dois aussi aller en Illinois\n",
    "improved_clauses.append({'x2' : False, 'x4' : True})\n",
    "# Si tu vas au Texas, tu ne vas pas à New York\n",
    "improved_clauses.append({'x3' : False, 'x2' : False})\n",
    "# Si tu ne vas pas en Floride, tu ne vas pas au Texas\n",
    "improved_clauses.append({'x1' : True, 'x3' : False})\n",
    "# Si tu vas en Illinois, tu ne peux pas aller en Californie\n",
    "improved_clauses.append({'x4' : False, 'x0' : False})\n",
    "# Si tu vas en Floride, tu dois aller au Texas\n",
    "improved_clauses.append({'x1' : False, 'x3' : False})\n",
    "# Si tu vas en Californie, tu dois aller au Texas\n",
    "improved_clauses.append({'x0' : False, 'x3' : True})\n",
    "# Si tu vas à New York, tu ne vas pas en Floride\n",
    "improved_clauses.append({'x2' : False, 'x1' : False})\n",
    "improved_clauses.append({'x4' : False})\n"
   ],
   "outputs": [],
   "execution_count": 16
  },
  {
   "cell_type": "code",
   "id": "c2a7f3e9c8cdb985",
   "metadata": {
    "ExecuteTime": {
     "end_time": "2025-05-09T17:01:41.296086Z",
     "start_time": "2025-05-09T17:01:40.614940Z"
    }
   },
   "source": [
    "grover_circuit = grover(improved_clauses)\n",
    "counts = run_circuit(grover_circuit)\n",
    "print(counts)\n",
    "plot_histogram(counts)"
   ],
   "outputs": [
    {
     "name": "stdout",
     "output_type": "stream",
     "text": [
      "{'00101': 88, '00000': 81, '11010': 95, '00001': 93, '01101': 102, '01111': 96, '11100': 93, '00111': 106, '10110': 93, '01100': 83, '10100': 82, '10101': 84, '10011': 113, '10000': 93, '01001': 80, '01011': 112, '00100': 94, '11011': 101, '10001': 100, '00010': 81, '10111': 86, '00011': 102, '01010': 95, '01000': 88, '01110': 101, '11111': 102, '11000': 108, '11110': 84, '10010': 85, '11101': 91, '11001': 95, '00110': 93}\n"
     ]
    },
    {
     "data": {
      "text/plain": [
       "<Figure size 640x480 with 1 Axes>"
      ],
      "image/png": "[encoded data removed]"
     },
     "execution_count": 17,
     "metadata": {},
     "output_type": "execute_result"
    }
   ],
   "execution_count": 17
  },
  {
   "metadata": {
    "ExecuteTime": {
     "end_time": "2025-05-09T17:06:01.427659Z",
     "start_time": "2025-05-09T17:06:01.421542Z"
    }
   },
   "cell_type": "code",
   "source": [
    "from qiskit_ibm_runtime import QiskitRuntimeService, Sampler, Session\n",
    "from qiskit import transpile\n",
    "\n",
    "def run_circuit(circ):\n",
    "    # Connexion au service IBM Quantum\n",
    "    service = QiskitRuntimeService()\n",
    "\n",
    "    # Lancer une session sans passer par l'argument `service`\n",
    "    with Session(backend=\"ibm_quebec\") as session:\n",
    "        sampler = Sampler(session=session)\n",
    "\n",
    "        transpiled = transpile(circ, session.backend)\n",
    "        job = sampler.run(transpiled, shots=3000)\n",
    "        result = job.result()\n",
    "\n",
    "        return result.quasi_dists[0].binary_probabilities()"
   ],
   "id": "8ed66c906011e555",
   "outputs": [],
   "execution_count": 22
  },
  {
   "metadata": {
    "ExecuteTime": {
     "end_time": "2025-05-09T17:06:08.389314Z",
     "start_time": "2025-05-09T17:06:02.988405Z"
    }
   },
   "cell_type": "code",
   "source": [
    "grover_circuit = grover(improved_clauses)\n",
    "counts = run_circuit(grover_circuit)\n",
    "print(counts)\n",
    "plot_histogram(counts)"
   ],
   "id": "5c9ae95775163f53",
   "outputs": [
    {
     "name": "stderr",
     "output_type": "stream",
     "text": [
      "C:\\Users\\user\\AppData\\Local\\Temp\\ipykernel_13604\\2740433764.py:6: DeprecationWarning: The \"ibm_quantum\" channel option is deprecated and will be sunset on 1 July. After this date, ibm_cloud will be the only valid channel. For information on migrating to the new IBM Quantum Platform on the \"ibm_cloud\" channel, review the migration guide https://quantum.cloud.ibm.com/docs/migration-guides/classic-iqp-to-cloud-iqp .\n",
      "  service = QiskitRuntimeService()\n"
     ]
    },
    {
     "ename": "ValueError",
     "evalue": "Invalid backend type <class 'str'>",
     "output_type": "error",
     "traceback": [
      "\u001B[31m---------------------------------------------------------------------------\u001B[39m",
      "\u001B[31mValueError\u001B[39m                                Traceback (most recent call last)",
      "\u001B[36mCell\u001B[39m\u001B[36m \u001B[39m\u001B[32mIn[23]\u001B[39m\u001B[32m, line 2\u001B[39m\n\u001B[32m      1\u001B[39m grover_circuit = grover(improved_clauses)\n\u001B[32m----> \u001B[39m\u001B[32m2\u001B[39m counts = \u001B[43mrun_circuit\u001B[49m\u001B[43m(\u001B[49m\u001B[43mgrover_circuit\u001B[49m\u001B[43m)\u001B[49m\n\u001B[32m      3\u001B[39m \u001B[38;5;28mprint\u001B[39m(counts)\n\u001B[32m      4\u001B[39m plot_histogram(counts)\n",
      "\u001B[36mCell\u001B[39m\u001B[36m \u001B[39m\u001B[32mIn[22]\u001B[39m\u001B[32m, line 9\u001B[39m, in \u001B[36mrun_circuit\u001B[39m\u001B[34m(circ)\u001B[39m\n\u001B[32m      6\u001B[39m service = QiskitRuntimeService()\n\u001B[32m      8\u001B[39m \u001B[38;5;66;03m# Lancer une session sans passer par l'argument `service`\u001B[39;00m\n\u001B[32m----> \u001B[39m\u001B[32m9\u001B[39m \u001B[38;5;28;01mwith\u001B[39;00m \u001B[43mSession\u001B[49m\u001B[43m(\u001B[49m\u001B[43mbackend\u001B[49m\u001B[43m=\u001B[49m\u001B[33;43m\"\u001B[39;49m\u001B[33;43mibm_quebec\u001B[39;49m\u001B[33;43m\"\u001B[39;49m\u001B[43m)\u001B[49m \u001B[38;5;28;01mas\u001B[39;00m session:\n\u001B[32m     10\u001B[39m     sampler = Sampler(session=session)\n\u001B[32m     12\u001B[39m     transpiled = transpile(circ, session.backend)\n",
      "\u001B[36mFile \u001B[39m\u001B[32m~\\Desktop\\quantum-computing\\.venv\\Lib\\site-packages\\qiskit_ibm_runtime\\session.py:120\u001B[39m, in \u001B[36mSession.__init__\u001B[39m\u001B[34m(self, backend, max_time, create_new)\u001B[39m\n\u001B[32m    118\u001B[39m     \u001B[38;5;28mself\u001B[39m._backend = backend\n\u001B[32m    119\u001B[39m \u001B[38;5;28;01melse\u001B[39;00m:\n\u001B[32m--> \u001B[39m\u001B[32m120\u001B[39m     \u001B[38;5;28;01mraise\u001B[39;00m \u001B[38;5;167;01mValueError\u001B[39;00m(\u001B[33mf\u001B[39m\u001B[33m\"\u001B[39m\u001B[33mInvalid backend type \u001B[39m\u001B[38;5;132;01m{\u001B[39;00m\u001B[38;5;28mtype\u001B[39m(backend)\u001B[38;5;132;01m}\u001B[39;00m\u001B[33m\"\u001B[39m)\n\u001B[32m    122\u001B[39m \u001B[38;5;28mself\u001B[39m._max_time = (\n\u001B[32m    123\u001B[39m     max_time\n\u001B[32m    124\u001B[39m     \u001B[38;5;28;01mif\u001B[39;00m max_time \u001B[38;5;129;01mis\u001B[39;00m \u001B[38;5;28;01mNone\u001B[39;00m \u001B[38;5;129;01mor\u001B[39;00m \u001B[38;5;28misinstance\u001B[39m(max_time, \u001B[38;5;28mint\u001B[39m)\n\u001B[32m    125\u001B[39m     \u001B[38;5;28;01melse\u001B[39;00m hms_to_seconds(max_time, \u001B[33m\"\u001B[39m\u001B[33mInvalid max_time value: \u001B[39m\u001B[33m\"\u001B[39m)\n\u001B[32m    126\u001B[39m )\n\u001B[32m    128\u001B[39m \u001B[38;5;28;01mif\u001B[39;00m \u001B[38;5;28misinstance\u001B[39m(\u001B[38;5;28mself\u001B[39m._backend, IBMBackend):\n",
      "\u001B[31mValueError\u001B[39m: Invalid backend type <class 'str'>"
     ]
    }
   ],
   "execution_count": 23
  }
 ],
 "metadata": {
  "kernelspec": {
   "display_name": "Python 3 (ipykernel)",
   "language": "python",
   "name": "python3"
  },
  "language_info": {
   "codemirror_mode": {
    "name": "ipython",
    "version": 3
   },
   "file_extension": ".py",
   "mimetype": "text/x-python",
   "name": "python",
   "nbconvert_exporter": "python",
   "pygments_lexer": "ipython3",
   "version": "3.13.3"
  }
 },
 "nbformat": 4,
 "nbformat_minor": 5
}
