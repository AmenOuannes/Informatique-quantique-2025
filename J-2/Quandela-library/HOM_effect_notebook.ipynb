{
 "cells": [
  {
   "cell_type": "markdown",
   "id": "a7cfafc3-6753-401f-941d-a9c7cb3e34fc",
   "metadata": {},
   "source": [
    "# Implementation de l'effet Hong-Ou-Mandel\n",
    "\n",
    "Dans ce petit notebook, vous pouvez reproduire l'[effet HOM](https://en.wikipedia.org/wiki/Hong%E2%80%93Ou%E2%80%93Mandel_effect).\n",
    "\n",
    "\"L'effet HOM se produit lorsque **deux photons identiques** entrent dans un séparateur de faisceau 1:1, un dans chaque port d'entrée. Lorsque le **chevauchement temporel des photons sur le séparateur de faisceau est parfait**, les deux photons sortent toujours ensemble du séparateur de faisceau dans le même mode de sortie, ce qui signifie qu'il n'y a aucune chance qu'ils sortent séparément\"\n",
    "\n",
    "Ici, nous vous proposons de reproduire cet effet HOM, tout d'abord sur une simulation locale de l'ordinateur quantique (qui est donc une simulation non bruitée), puis, nous vous montrons comment le tester sur le QPU Arcturus, vu à Sherbrooke."
   ]
  },
  {
   "cell_type": "code",
   "execution_count": 3,
   "id": "8da1fc71-891d-4421-b473-f586b22f9d63",
   "metadata": {},
   "outputs": [],
   "source": [
    "# first we need to install Perceval\n",
    "# the documentation and source code can be found here: https://perceval.quandela.net\n",
    "# pip install perceval-quandela"
   ]
  },
  {
   "cell_type": "code",
   "execution_count": 109,
   "id": "13ba4833-1dd3-4ef9-a910-05e84da87a35",
   "metadata": {},
   "outputs": [],
   "source": [
    "# useful importations to begin with\n",
    "import os\n",
    "import perceval as pcvl \n",
    "import time\n",
    "from perceval.algorithm import Sampler\n",
    "\n",
    "import warnings\n",
    "\n",
    "warnings.filterwarnings(\"ignore\")"
   ]
  },
  {
   "cell_type": "markdown",
   "id": "e380befa-e670-4f17-9a26-8dd643ff7729",
   "metadata": {},
   "source": [
    "## Simulation"
   ]
  },
  {
   "cell_type": "code",
   "execution_count": 110,
   "id": "7141400e-28c9-4f85-88eb-2aefb2d6ffad",
   "metadata": {},
   "outputs": [
    {
     "data": {
      "text/plain": [
       "<perceval.components.linear_circuit.Circuit at 0x7faa4f9c5790>"
      ]
     },
     "execution_count": 110,
     "metadata": {},
     "output_type": "execute_result"
    }
   ],
   "source": [
    "\n",
    "# creation d'un circuit avec 4 modes (max 12 sur Arcturus)\n",
    "circuit = pcvl.Circuit(4)\n",
    "\n",
    "# ajout d'un BeamSplitter 1:1\n",
    "circuit.add(0, pcvl.BS(pcvl.BS.r_to_theta(0.5)))\n"
   ]
  },
  {
   "cell_type": "code",
   "execution_count": 111,
   "id": "e52ce326-4bf2-4597-a1b2-2def06ad3986",
   "metadata": {},
   "outputs": [
    {
     "data": {
      "image/svg+xml": [
       "<?xml version=\"1.0\" encoding=\"UTF-8\"?>\n",
       "<svg xmlns=\"http://www.w3.org/2000/svg\" xmlns:xlink=\"http://www.w3.org/1999/xlink\"\n",
       "     width=\"257.5\" height=\"281.25\" viewBox=\"-28.0 0 206.0 225.0\">\n",
       "<defs>\n",
       "</defs>\n",
       "<path d=\"M10,25 L25,25\" stroke-width=\"3\" stroke=\"darkred\" stroke-linejoin=\"miter\" fill=\"none\" />\n",
       "<path d=\"M10,75 L25,75\" stroke-width=\"3\" stroke=\"darkred\" stroke-linejoin=\"miter\" fill=\"none\" />\n",
       "<path d=\"M10,125 L25,125\" stroke-width=\"3\" stroke=\"darkred\" stroke-linejoin=\"miter\" fill=\"none\" />\n",
       "<path d=\"M10,175 L25,175\" stroke-width=\"3\" stroke=\"darkred\" stroke-linejoin=\"miter\" fill=\"none\" />\n",
       "<path d=\"M25,25 L53,25 L72,44\" stroke=\"darkred\" stroke-width=\"3\" fill=\"none\" />\n",
       "<path d=\"M78,44 L97,25 L125,25\" stroke=\"darkred\" stroke-width=\"3\" fill=\"none\" />\n",
       "<path d=\"M25,75 L53,75 L72,56\" stroke=\"darkred\" stroke-width=\"3\" fill=\"none\" />\n",
       "<path d=\"M78,56 L97,75 L125,75\" stroke=\"darkred\" stroke-width=\"3\" fill=\"none\" />\n",
       "<path d=\"M50,43 L100,43 L100,57 L50,57 Z\" stroke=\"black\" fill=\"black\" stroke-linejoin=\"miter\" />\n",
       "<text x=\"75\" y=\"85\" font-size=\"7\" text-anchor=\"middle\"></text>\n",
       "<text x=\"75\" y=\"26\" font-size=\"7\" text-anchor=\"middle\"></text>\n",
       "<path d=\"M50,43 L100,43 L100,47 L50,47 Z\" stroke=\"black\" fill=\"lightgray\" stroke-linejoin=\"miter\" />\n",
       "<path d=\"M93,50 L103,50 L103,60 L93,60 Z\" stroke=\"black\" fill=\"thistle\" stroke-linejoin=\"miter\" />\n",
       "<text x=\"98\" y=\"57\" font-size=\"6\" text-anchor=\"middle\">Rx</text>\n",
       "<path d=\"M25,125 L125,125\" stroke=\"darkred\" stroke-width=\"3\" fill=\"none\" />\n",
       "<path d=\"M25,175 L125,175\" stroke=\"darkred\" stroke-width=\"3\" fill=\"none\" />\n",
       "<path d=\"M125,25 L140,25\" stroke-width=\"3\" stroke=\"darkred\" stroke-linejoin=\"miter\" fill=\"none\" />\n",
       "<path d=\"M125,75 L140,75\" stroke-width=\"3\" stroke=\"darkred\" stroke-linejoin=\"miter\" fill=\"none\" />\n",
       "<path d=\"M125,125 L140,125\" stroke-width=\"3\" stroke=\"darkred\" stroke-linejoin=\"miter\" fill=\"none\" />\n",
       "<path d=\"M125,175 L140,175\" stroke-width=\"3\" stroke=\"darkred\" stroke-linejoin=\"miter\" fill=\"none\" />\n",
       "<text x=\"150\" y=\"28\" font-size=\"6\" text-anchor=\"end\">0</text>\n",
       "<text x=\"150\" y=\"78\" font-size=\"6\" text-anchor=\"end\">1</text>\n",
       "<text x=\"150\" y=\"128\" font-size=\"6\" text-anchor=\"end\">2</text>\n",
       "<text x=\"150\" y=\"178\" font-size=\"6\" text-anchor=\"end\">3</text>\n",
       "<text x=\"0\" y=\"28\" font-size=\"6\" text-anchor=\"start\">0</text>\n",
       "<text x=\"0\" y=\"78\" font-size=\"6\" text-anchor=\"start\">1</text>\n",
       "<text x=\"0\" y=\"128\" font-size=\"6\" text-anchor=\"start\">2</text>\n",
       "<text x=\"0\" y=\"178\" font-size=\"6\" text-anchor=\"start\">3</text>\n",
       "</svg>"
      ],
      "text/plain": [
       "<drawsvg.drawing.Drawing at 0x7faa4f926b90>"
      ]
     },
     "execution_count": 111,
     "metadata": {},
     "output_type": "execute_result"
    }
   ],
   "source": [
    "# affichage du circuit\n",
    "pcvl.pdisplay(circuit)"
   ]
  },
  {
   "cell_type": "code",
   "execution_count": 112,
   "id": "4bc123c2-f7cd-4fab-a69c-d5473cbfb2da",
   "metadata": {},
   "outputs": [
    {
     "name": "stdout",
     "output_type": "stream",
     "text": [
      "{\n",
      "  |2,0,0,0>: 518\n",
      "  |0,2,0,0>: 482\n",
      "}\n"
     ]
    }
   ],
   "source": [
    "# choix du back-end de calcul\n",
    "processor = pcvl.Processor(\"SLOS\")\n",
    "# envoi du circuit sur le simulateur\n",
    "processor.set_circuit(circuit)\n",
    "# choix de la détection des outputs\n",
    "processor.thresholded_output(False)\n",
    "# état d'entrée\n",
    "processor.with_input(pcvl.BasicState('|1,1,0,0>'))\n",
    "\n",
    "sampler = Sampler(processor)\n",
    "# simulation avec 1000 répétitions\n",
    "results = sampler.sample_count(1000)\n",
    "# résultats\n",
    "print(results['results'])"
   ]
  },
  {
   "cell_type": "markdown",
   "id": "490f6bfe-ee77-4edd-8d1d-68714f39b164",
   "metadata": {},
   "source": [
    "## Sur le QPU"
   ]
  },
  {
   "cell_type": "code",
   "execution_count": 113,
   "id": "9b56a1af-cf29-4ead-9c49-01d1460a5169",
   "metadata": {},
   "outputs": [],
   "source": [
    "# choix de la plateforme avec des variables locales\n",
    "# vous n'avez peut-être pas accès au QPU\n",
    "platform_name = \"qpu:arcturus\"\n",
    "webapi_url = os.environ['QUANDELA_PLATFORM_URL']\n",
    "token = os.environ['QUANDELA_USER_TOKEN']"
   ]
  },
  {
   "cell_type": "code",
   "execution_count": 114,
   "id": "0f765810-be42-4a48-87a0-d6325147651e",
   "metadata": {},
   "outputs": [
    {
     "name": "stdout",
     "output_type": "stream",
     "text": [
      "Specs = {'available_commands': ['sample_count', 'samples'], 'connected_input_modes': [0, 2, 4, 6, 8, 10], 'constraints': {'max_mode_count': 12, 'max_photon_count': 6, 'min_mode_count': 1, 'min_photon_count': 1}, 'description': 'Arcturus QPU', 'detector': 'threshold', 'documentation': '', 'parameters': {'final_mode_number': 'number of modes of the output states. States having a photon on unused modes will be ignored. Useful when using computed circuits (default input_state.m)', 'min_detected_photons': 'minimum number of detected photons to keep a state (default input_state.n)', 'use_photon_recycling': 'boolean enabling the Photon Recycling noise mitigation process. (default enabled whenever it can be used)'}, 'pre_shots_compatibility': True, 'processor_name': 'qpu:arcturus', 'specific_circuit': <perceval.components.linear_circuit.Circuit object at 0x7faa4fb81610>}\n"
     ]
    }
   ],
   "source": [
    "# définition du QPU\n",
    "remote_qpu = pcvl.RemoteProcessor(platform_name, token, webapi_url)\n",
    "# affichage des specs du QPU\n",
    "specs = remote_qpu.specs\n",
    "print(f\"Specs = {specs}\")"
   ]
  },
  {
   "cell_type": "code",
   "execution_count": 115,
   "id": "7025b584-e13b-433f-ae80-6ecd131965b6",
   "metadata": {},
   "outputs": [
    {
     "data": {
      "text/plain": [
       "<perceval.components.linear_circuit.Circuit at 0x7faa4f792850>"
      ]
     },
     "execution_count": 115,
     "metadata": {},
     "output_type": "execute_result"
    }
   ],
   "source": [
    "# création du circuit et ajout des composants (comme en simulation)\n",
    "circuit = pcvl.Circuit(4)\n",
    "circuit.add(2, pcvl.BS(pcvl.BS.r_to_theta(0.5)))"
   ]
  },
  {
   "cell_type": "code",
   "execution_count": 116,
   "id": "3329dd02-3098-4765-9429-fcebfa02041e",
   "metadata": {},
   "outputs": [],
   "source": [
    "# envoi du circuit sur le QPU\n",
    "remote_qpu.set_circuit(circuit)\n",
    "remote_qpu.min_detected_photons_filter(1) \n",
    "remote_qpu.with_input(pcvl.BasicState('|0,0,1,1>'))"
   ]
  },
  {
   "cell_type": "code",
   "execution_count": 119,
   "id": "4715cc54-6f39-46c9-8ef3-bd1ceaca78cd",
   "metadata": {},
   "outputs": [
    {
     "name": "stdout",
     "output_type": "stream",
     "text": [
      "675532fd-33e9-4901-938c-253775337067\n"
     ]
    }
   ],
   "source": [
    "nsamples = 10000\n",
    "sampler = Sampler(remote_qpu, max_shots_per_call=nsamples)\n",
    "sampler.default_job_name = \"Demonstration of the HOM effect\"\n",
    "remote_job = sampler.sample_count.execute_async(nsamples) \n",
    "print(remote_job.id)  # Once created, the job was assigned a unique id"
   ]
  },
  {
   "cell_type": "code",
   "execution_count": 120,
   "id": "7d596e2d-e25f-44b2-9d12-068e36b1cae6",
   "metadata": {},
   "outputs": [
    {
     "data": {
      "application/vnd.jupyter.widget-view+json": {
       "model_id": "24e8d84559a54d53aa10baba762957cb",
       "version_major": 2,
       "version_minor": 0
      },
      "text/plain": [
       "  0%|          |"
      ]
     },
     "metadata": {},
     "output_type": "display_data"
    },
    {
     "name": "stdout",
     "output_type": "stream",
     "text": [
      "Job status = SUCCESS\n"
     ]
    }
   ],
   "source": [
    "from tqdm.notebook import tqdm\n",
    "previous_prog = 0\n",
    "with tqdm(total=1, bar_format='{desc}{percentage:3.0f}%|{bar}|') as tq:\n",
    "    tq.set_description(f'Get {nsamples} samples from {remote_qpu.name}')\n",
    "    while not remote_job.is_complete:\n",
    "        tq.update(remote_job.status.progress/100-previous_prog)\n",
    "        previous_prog = remote_job.status.progress/100\n",
    "        time.sleep(1)\n",
    "    tq.update(1-previous_prog)\n",
    "    tq.close()\n",
    "\n",
    "print(f\"Job status = {remote_job.status()}\")"
   ]
  },
  {
   "cell_type": "code",
   "execution_count": 121,
   "id": "6ad04931-0a1d-4209-8a02-9968f7d129b9",
   "metadata": {},
   "outputs": [
    {
     "name": "stdout",
     "output_type": "stream",
     "text": [
      "{\n",
      "  |1,0,0,0>: 9\n",
      "  |0,1,0,0>: 5\n",
      "  |0,0,1,1>: 11\n",
      "  |0,0,1,0>: 4971\n",
      "  |0,0,0,1>: 5004\n",
      "}\n"
     ]
    }
   ],
   "source": [
    "results = remote_job.get_results()\n",
    "print(results['results'])"
   ]
  },
  {
   "cell_type": "code",
   "execution_count": null,
   "id": "d861e8f7-e040-4548-ab46-95f7ae33f007",
   "metadata": {},
   "outputs": [],
   "source": []
  }
 ],
 "metadata": {
  "kernelspec": {
   "display_name": "Quandela Perceval",
   "language": "python",
   "name": "lib_perceval"
  },
  "language_info": {
   "codemirror_mode": {
    "name": "ipython",
    "version": 3
   },
   "file_extension": ".py",
   "mimetype": "text/x-python",
   "name": "python",
   "nbconvert_exporter": "python",
   "pygments_lexer": "ipython3",
   "version": "3.11.12"
  }
 },
 "nbformat": 4,
 "nbformat_minor": 5
}
