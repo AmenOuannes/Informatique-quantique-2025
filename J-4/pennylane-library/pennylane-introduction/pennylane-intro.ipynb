{
 "cells": [
  {
   "cell_type": "markdown",
   "metadata": {},
   "source": [
    "# Atelier : Introduction à PennyLane\n",
    "\n",
    "### Durée : ~3h\n"
   ]
  },
  {
   "cell_type": "markdown",
   "metadata": {},
   "source": [
    "PennyLane est une bibliothèque Python open source pour concevoir, simuler et exécuter des algorithmes quantiques et hybrides sur CPU, GPU, simulateurs ou ordinateurs quantiques, soutenue par une communauté active."
   ]
  },
  {
   "cell_type": "markdown",
   "metadata": {},
   "source": [
    "# Installation et importation\n",
    "\n",
    "Pour installer PennyLane, utilisez simplement la commande :\n",
    "\n",
    "```bash\n",
    "pip install pennylane\n",
    "```"
   ]
  },
  {
   "cell_type": "markdown",
   "metadata": {},
   "source": [
    "Ensuite, dans votre environnement préféré (par exemple VSCode ou un notebook Jupyter), lancez ces deux instructions d'importation :\n",
    "\n",
    "```python\n",
    "import pennylane as qml\n",
    "from pennylane import numpy as np\n",
    "```\n",
    "\n",
    "Vous êtes maintenant prêt à coder !"
   ]
  },
  {
   "cell_type": "code",
   "metadata": {
    "ExecuteTime": {
     "end_time": "2025-05-08T18:10:37.833809Z",
     "start_time": "2025-05-08T18:10:37.827111Z"
    }
   },
   "source": [
    "import pennylane as qml\n",
    "from pennylane import numpy as np\n",
    "from qiskit import QuantumCircuit\n",
    "\n",
    "# import numpy as np\n",
    "\n",
    "print(f\"Version de PennyLane : {qml.__version__}\")"
   ],
   "outputs": [
    {
     "name": "stdout",
     "output_type": "stream",
     "text": [
      "Version de PennyLane : 0.41.1\n"
     ]
    }
   ],
   "execution_count": 12
  },
  {
   "cell_type": "markdown",
   "metadata": {},
   "source": [
    "# Hello World: Un premier exemple rapide avec PennyLane\n",
    "\n",
    "Commençons directement avec un petit exemple complet, façon \"Hello World\" avec PennyLane.\n",
    "\n",
    "Voici un premier circuit quantique minimal.\n"
   ]
  },
  {
   "cell_type": "code",
   "metadata": {
    "ExecuteTime": {
     "end_time": "2025-05-08T18:10:38.017150Z",
     "start_time": "2025-05-08T18:10:37.889258Z"
    }
   },
   "source": [
    "# Importer PennyLane\n",
    "import pennylane as qml\n",
    "from pennylane import numpy as np\n",
    "\n",
    "# Définir un device : simulateur avec 2 qubits\n",
    "dev = qml.device(\"default.qubit\", wires=2)\n",
    "\n",
    "# Définir le circuit : une fonction décorée avec @qml.qnode\n",
    "@qml.qnode(dev)\n",
    "def hello_circuit(param):\n",
    "    qml.Hadamard(wires=0)           # Appliquer une porte Hadamard sur le qubit 0\n",
    "    qml.CNOT(wires=[0, 1])           # Appliquer une porte CNOT (0 contrôle 1)\n",
    "    qml.RZ(param, wires=1)           # Appliquer une rotation autour de Z sur le qubit 1 (avec un paramètre)\n",
    "    return qml.probs(wires=[0, 1])   # Mesurer les probabilités sur les deux qubits\n",
    "\n",
    "# Définir un paramètre\n",
    "parametre = np.pi / 4\n",
    "\n",
    "# Exécuter le circuit\n",
    "resultat = hello_circuit(parametre)\n",
    "print(\"Résultat (probabilités) :\", resultat)\n",
    "\n",
    "# Visualiser le circuit\n",
    "print(qml.drawer.draw_mpl(hello_circuit)(parametre))"
   ],
   "outputs": [
    {
     "name": "stdout",
     "output_type": "stream",
     "text": [
      "Résultat (probabilités) : [0.5 0.  0.  0.5]\n",
      "(<Figure size 600x300 with 1 Axes>, <Axes: >)\n"
     ]
    },
    {
     "data": {
      "text/plain": [
       "<Figure size 600x300 with 1 Axes>"
      ],
      "image/png": "[encoded data removed]"
     },
     "metadata": {},
     "output_type": "display_data"
    }
   ],
   "execution_count": 13
  },
  {
   "cell_type": "markdown",
   "metadata": {},
   "source": [
    "### Que fait ce code ?\n",
    "\n",
    "- **Import** : On importe PennyLane et NumPy version compatible.\n",
    "- **Device** : On utilise un simulateur (`default.qubit`) avec **2 qubits**.\n",
    "- **QNode** : On définit un circuit avec une fonction Python décorée avec `@qml.qnode`.\n",
    "- **Circuit** :\n",
    "  - `Hadamard` : créer une superposition sur le qubit 0.\n",
    "  - `CNOT` : créer de l'intrication (entanglement) entre le qubit 0 et le qubit 1.\n",
    "  - `RZ(param)` : appliquer une rotation paramétrée autour de l'axe Z sur le qubit 1.\n",
    "- **Paramètre** : On fournit un angle (`π/4`) pour la porte `RZ`.\n",
    "- **Exécution** : On appelle la fonction avec le paramètre pour obtenir les probabilités.\n",
    "- **Visualisation** : On dessine le circuit pour mieux le comprendre.\n",
    "\n",
    "---\n",
    "\n",
    "Dans les prochaines sections, nous allons **analyser chaque composant** :\n",
    "- **Devices** : simulateurs et hardware\n",
    "- **QNodes** : circuits comme fonctions\n",
    "- **Portes quantiques** : manipulation des qubits\n",
    "- **Paramètres** : création de circuits paramétriques\n",
    "- **Mesures** : récupérer les résultats\n",
    "- **Visualisation et exécution**\n"
   ]
  },
  {
   "cell_type": "markdown",
   "metadata": {},
   "source": [
    "# Opérations quantiques\n",
    "\n",
    "Dans PennyLane, un circuit quantique est construit à partir de différentes opérations :\n",
    "\n",
    "- **Préparation d’état quantique** : initialiser les qubits dans un état spécifique comme `qml.StatePrep`, `qml.BasisState`.\n",
    "- **Portes à un seul qubit** : appliquer des opérations comme X (`qml.PauliX` or `qml.X`), Y, Z, H, RX, RY, RZ, etc.\n",
    "- **Portes multi-qubits** : opérations impliquant plusieurs qubits, comme CNOT, CZ, SWAP, etc.\n",
    "- **Portes contrôlées** : appliquer une opération sur un qubit en fonction de l’état d’un autre (ex : CNOT).\n",
    "- **Inverse d’une opération** : appliquer l’opération inverse d’une porte (ex : `qml.adjoint(qml.Hadamard)(wires=0)`).\n",
    "\n",
    "Pour plus de détails et d’exemples :  \n",
    "[Quantum Operations — PennyLane Codebook](https://pennylane.ai/codebook/pennylane-fundamentals/quantum-operations)"
   ]
  },
  {
   "cell_type": "markdown",
   "metadata": {},
   "source": [
    "# Devices (Dispositifs Quantiques): simulateurs et hardware\n",
    "\n",
    "Les [devices](https://docs.pennylane.ai/en/stable/code/api/pennylane.device.html) dans PennyLane représentent le backend où les circuits quantiques sont exécutés. Il peut s'agir d'un simulateur ou d'un matériel quantique réel.\n",
    "\n",
    "La function `device(name, *args, **kwargs)` est utilisée pour charger un device spécifique, qui pourra ensuite être utilisé pour construire des `QNodes`.\n",
    "\n",
    "Paramètres principaux :\n",
    "\n",
    "- name (str) — le nom du device à charger\n",
    "\n",
    "- wires (int) — le nombre de qubits à initialiser\n",
    "(Remarque : Cet argument est optionnel pour certains devices comme default.qubit, car PennyLane peut parfois déduire automatiquement le nombre de fils.)\n",
    "\n",
    "\n",
    "PennyLane propose plusieurs simulateurs intégrés, par exemple :\n",
    "\n",
    "- `default.qubit` : Simulateur classique de qubits sans bruit.  \n",
    "\n",
    "- `lightning.qubit` : Simulateur de qubits rapide et sans bruit, avec un backend en C++ pour de meilleures performances.\n",
    "\n",
    "- `default.mixed` : Simulateur de qubits permettant de modéliser du **bruit**.  \n",
    "\n",
    "- `default.tensor` : Simulateur de circuits quantiques basé sur les réseaux de tenseurs (tensor networks).\n",
    "\n",
    "Pour plus d'informations, consultez la documentation officielle : [PennyLane Devices](https://docs.pennylane.ai/en/stable/code/api/pennylane.device.html)\n",
    "\n",
    "\n",
    "**Notes importantes :**\n",
    "\n",
    "Les dispositifs réels nécessitent parfois une authentification (example: token API IBM Quantum).\n",
    "\n",
    "Les \"Fake\" backends sont pratiques pour tester vos circuits sans avoir à réserver du temps sur un vrai processeur quantique."
   ]
  },
  {
   "cell_type": "markdown",
   "metadata": {},
   "source": [
    "## Exemples:"
   ]
  },
  {
   "cell_type": "code",
   "metadata": {
    "ExecuteTime": {
     "end_time": "2025-05-08T18:10:38.124057Z",
     "start_time": "2025-05-08T18:10:38.044679Z"
    }
   },
   "source": [
    "dev_default = qml.device(\"default.qubit\", wires=2)\n",
    "dev_mixed = qml.device(\"default.mixed\", wires=2, shots=1000)\n",
    "dev_lightning = qml.device(\"lightning.qubit\", wires=2, shots=1000)\n",
    "\n",
    "print('Simulator default : ',dev_default)\n",
    "print('Simulator mixed : ',dev_mixed)\n",
    "print('Simulator lightning : ',dev_lightning)"
   ],
   "outputs": [
    {
     "name": "stdout",
     "output_type": "stream",
     "text": [
      "Simulator default :  <default.qubit device (wires=2) at 0x1a52c2c5350>\n",
      "Simulator mixed :  <default.mixed device (wires=2, shots=1000) at 0x1a52e9406e0>\n",
      "Simulator lightning :  <lightning.qubit device (wires=2, shots=1000) at 0x1a52c201d30>\n"
     ]
    }
   ],
   "execution_count": 14
  },
  {
   "cell_type": "markdown",
   "metadata": {},
   "source": [
    "## Voir tous les dispositifs disponibles\n",
    "Pour voir la liste des devices disponibles sur votre installation, vous pouvez utiliser la commande suivante `qml.about()`"
   ]
  },
  {
   "cell_type": "code",
   "metadata": {
    "ExecuteTime": {
     "end_time": "2025-05-08T18:10:40.325563Z",
     "start_time": "2025-05-08T18:10:38.165768Z"
    }
   },
   "source": [
    "qml.about()"
   ],
   "outputs": [
    {
     "name": "stdout",
     "output_type": "stream",
     "text": [
      "Name: PennyLane\r\n",
      "Version: 0.41.1\r\n",
      "Summary: PennyLane is a cross-platform Python library for quantum computing, quantum machine learning, and quantum chemistry. Train a quantum computer the same way as a neural network.\r\n",
      "Home-page: https://github.com/PennyLaneAI/pennylane\r\n",
      "Author: \r\n",
      "Author-email: \r\n",
      "License: Apache License 2.0\r\n",
      "Location: C:\\Users\\user\\Desktop\\quantum-computing\\.venv\\Lib\\site-packages\r\n",
      "Requires: appdirs, autograd, autoray, cachetools, diastatic-malt, networkx, numpy, packaging, pennylane-lightning, requests, rustworkx, scipy, tomlkit, typing-extensions\r\n",
      "Required-by: PennyLane-qiskit, PennyLane_Lightning\r\n",
      "\n",
      "Platform info:           Windows-11-10.0.26100-SP0\n",
      "Python version:          3.13.3\n",
      "Numpy version:           2.2.5\n",
      "Scipy version:           1.15.2\n",
      "Installed devices:\n",
      "- default.clifford (PennyLane-0.41.1)\n",
      "- default.gaussian (PennyLane-0.41.1)\n",
      "- default.mixed (PennyLane-0.41.1)\n",
      "- default.qubit (PennyLane-0.41.1)\n",
      "- default.qutrit (PennyLane-0.41.1)\n",
      "- default.qutrit.mixed (PennyLane-0.41.1)\n",
      "- default.tensor (PennyLane-0.41.1)\n",
      "- null.qubit (PennyLane-0.41.1)\n",
      "- reference.qubit (PennyLane-0.41.1)\n",
      "- lightning.qubit (PennyLane_Lightning-0.41.1)\n",
      "- qiskit.aer (PennyLane-qiskit-0.41.0.post0)\n",
      "- qiskit.basicaer (PennyLane-qiskit-0.41.0.post0)\n",
      "- qiskit.basicsim (PennyLane-qiskit-0.41.0.post0)\n",
      "- qiskit.remote (PennyLane-qiskit-0.41.0.post0)\n"
     ]
    }
   ],
   "execution_count": 15
  },
  {
   "cell_type": "markdown",
   "metadata": {},
   "source": [
    "## Utiliser des devices supplémentaires avec des plugins\n",
    "Il fuat savoir aussi que PennyLane prend également en charge de nombreux autres dispositifs via des plugins.\n",
    "\n",
    "## Exemple : utiliser les backends IBM (réels et simulés)"
   ]
  },
  {
   "cell_type": "code",
   "metadata": {
    "ExecuteTime": {
     "end_time": "2025-05-08T18:10:55.827936Z",
     "start_time": "2025-05-08T18:10:40.349311Z"
    }
   },
   "source": [
    "# IBM real and fake backends\n",
    "from qiskit_ibm_runtime import QiskitRuntimeService\n",
    "from qiskit_ibm_runtime.fake_provider import FakeQuebec\n",
    "# 1) un ordi reel\n",
    "service = QiskitRuntimeService()\n",
    "backend = service.backend(\"ibm_quebec\")\n",
    "dev_ibm_quebec = qml.device(\"qiskit.remote\", wires=2, shots=1000, backend=backend, optimization_level=0)\n",
    "\n",
    "# 2) Get a fake backend from the fake provider\n",
    "backend = FakeQuebec()\n",
    "dev_ibm_fakequebec = qml.device('qiskit.remote', wires=2, backend=backend, shots=1000, optimization_level=0)\n"
   ],
   "outputs": [],
   "execution_count": 16
  },
  {
   "cell_type": "markdown",
   "metadata": {},
   "source": [
    "## Flexibilité des `wires`\n",
    "Par défaut, si vous spécifiez `wires=N`, PennyLane utilise les indices `0, 1, ..., N-1` pour identifier les sous-systèmes quantiques (qubits).\n",
    "**MAIS :** Vous pouvez définir explicitement les **étiquettes** (labels) et l'**ordre** de ces `wires` en passant une **liste ou un tableau** à l'argument `wires` lors de la création du `device`.\n",
    "\n",
    "Pour plus d'informations et d'exemples, voir le [Codebook - Circuits & QNodes](https://pennylane.ai/codebook/pennylane-fundamentals/circuits-and-qnodes/en)\n"
   ]
  },
  {
   "cell_type": "markdown",
   "metadata": {},
   "source": [
    "# Circuit quantique (function quantique)\n",
    "\n",
    "Un circuit quantique, ou fonction quantique, est une fonction Python qui contient une liste de portes pouvant dépendre de certains paramètres et agir sur des qubits (fils). Dans PennyLane, tous les qubits sont initialisés dans l'état de base $\\ket{0}$.\n",
    "\n",
    "Voici un exemple de fonction quantique de base :\n"
   ]
  },
  {
   "cell_type": "code",
   "metadata": {
    "ExecuteTime": {
     "end_time": "2025-05-08T18:10:55.841496Z",
     "start_time": "2025-05-08T18:10:55.835809Z"
    }
   },
   "source": [
    "def my_first_quantum_function(theta):\n",
    "    qml.RX(theta, wires = 0)\n",
    "    qml.PauliY(wires = 1)\n",
    "    qml.Hadamard(wires = 0)\n",
    "    qml.Hadamard(wires = 1)\n"
   ],
   "outputs": [],
   "execution_count": 17
  },
  {
   "cell_type": "markdown",
   "metadata": {},
   "source": [
    "Ici, la porte `RX` dépend de l'angle de rotation `theta`, qui est spécifié en argument de la fonction `my_first_quantum_function`. Les qubits (ou fils) sont étiquetés par des entiers 0, 1, 2, etc. (comptage Python). Dans cet exemple, le circuit a deux qubits, étiquetés 0 et 1.\n",
    "\n",
    "Dans PennyLane, une fonction quantique applique les portes dans l’ordre où elles apparaissent dans le code. Ainsi, la porte `RX` sera appliquée en premier, puis la porte `Hadamard`, sur le qubit spécifié `0`.\n",
    "\n",
    "Ce circuit peut être visualisé ainsi :"
   ]
  },
  {
   "cell_type": "code",
   "metadata": {
    "ExecuteTime": {
     "end_time": "2025-05-08T18:10:55.916016Z",
     "start_time": "2025-05-08T18:10:55.860913Z"
    }
   },
   "source": [
    "# Visualiser le circuit\n",
    "print(qml.drawer.draw_mpl(my_first_quantum_function)(np.pi/2))"
   ],
   "outputs": [
    {
     "name": "stdout",
     "output_type": "stream",
     "text": [
      "(<Figure size 500x300 with 1 Axes>, <Axes: >)\n"
     ]
    },
    {
     "data": {
      "text/plain": [
       "<Figure size 500x300 with 1 Axes>"
      ],
      "image/png": "[encoded data removed]"
     },
     "metadata": {},
     "output_type": "display_data"
    }
   ],
   "execution_count": 18
  },
  {
   "cell_type": "markdown",
   "metadata": {},
   "source": [
    "**Remarque importante :**  \n",
    "Comme vous l’avez peut-être déjà deviné, cette fonction (ou circuit) **ne peut pas encore être exécutée**.  \n",
    "En effet, il lui **manque deux éléments essentiels** :\n",
    "\n",
    "1. **Une mesure** pour extraire un résultat ;\n",
    "2. **Un device** (simulateur ou ordinateur quantique réel) auquel rattacher le circuit.\n",
    "\n",
    "Nous verrons dans les prochaines étapes comment ajouter ces éléments pour rendre le circuit exécutable.  \n",
    "Pour en savoir plus sur les devices, voir la section [Devices (Dispositifs Quantiques)](#devices-dispositifs-quantiques-simulateurs-et-hardware).\n"
   ]
  },
  {
   "cell_type": "markdown",
   "metadata": {},
   "source": [
    "## Exercice 1: Creation de circuit\n",
    "\n",
    "Utilisez PennyLane pour créer le circuit suivant dans la cellule ci-dessous.\n",
    "\n",
    "<img src=\"images/quantum_circuit.png\" alt=\"Quantum circuit\" style=\"width:500px;\"/>"
   ]
  },
  {
   "cell_type": "code",
   "metadata": {
    "ExecuteTime": {
     "end_time": "2025-05-08T18:10:56.129824Z",
     "start_time": "2025-05-08T18:10:55.950471Z"
    }
   },
   "source": [
    "circuit_1 = qml.device(\"default.qubit\", wires=3)\n",
    "@qml.qnode(circuit_1)\n",
    "def exo1(angles):\n",
    "    qml.Hadamard(wires = 0)\n",
    "    qml.Hadamard(wires = 1)\n",
    "    qml.Hadamard(wires = 2)\n",
    "    for i in range(3):\n",
    "        qml.RX(angles[i], wires = i)\n",
    "    for j in range(3):\n",
    "        qml.CNOT(wires = [j, (j+1)%3])\n",
    "    qml.Hadamard(wires = 1)\n",
    "    qml.adjoint(qml.S(wires=2))\n",
    "    qml.Hadamard(wires = 2)\n",
    "    return qml.probs(wires=[0, 1, 2])\n",
    "angles = [np.pi/2,np.pi/3,np.pi/4]\n",
    "result = exo1(angles)\n",
    "print(\"Probabilities:\", result)\n",
    "\n",
    "# Plot the circuit\n",
    "qml.drawer.draw_mpl(exo1)(angles)"
   ],
   "outputs": [
    {
     "name": "stdout",
     "output_type": "stream",
     "text": [
      "Probabilities: [0.25 0.25 0.   0.   0.25 0.25 0.   0.  ]\n"
     ]
    },
    {
     "data": {
      "text/plain": [
       "(<Figure size 1000x400 with 1 Axes>, <Axes: >)"
      ]
     },
     "execution_count": 19,
     "metadata": {},
     "output_type": "execute_result"
    },
    {
     "data": {
      "text/plain": [
       "<Figure size 1000x400 with 1 Axes>"
      ],
      "image/png": "[encoded data removed]"
     },
     "metadata": {},
     "output_type": "display_data"
    }
   ],
   "execution_count": 19
  },
  {
   "cell_type": "markdown",
   "metadata": {},
   "source": [
    "## Construire des circuits complexes en combinant plusieurs fonctions\n",
    "\n",
    "Pour des circuits plus complexes, il est utile de découper le circuit en sous-parties (ou blocs logiques), chacune implémentée comme une fonction indépendante. Ces fonctions peuvent ensuite être appelées dans une fonction \"mère\" (ou principale), qui applique la mesure et retourne les résultats."
   ]
  },
  {
   "cell_type": "code",
   "metadata": {
    "ExecuteTime": {
     "end_time": "2025-05-08T18:10:56.153448Z",
     "start_time": "2025-05-08T18:10:56.148093Z"
    }
   },
   "source": [
    "def encoding_layer(params):\n",
    "    qml.RX(params[0], wires=0)\n",
    "    qml.RY(params[1], wires=1)\n",
    "\n",
    "def entangling_layer():\n",
    "    qml.CNOT(wires=[0, 1])\n",
    "\n",
    "def my_full_circuit(params):\n",
    "    encoding_layer(params)\n",
    "    entangling_layer()\n",
    "    return qml.expval(qml.PauliZ(0))\n"
   ],
   "outputs": [],
   "execution_count": 20
  },
  {
   "cell_type": "code",
   "metadata": {
    "ExecuteTime": {
     "end_time": "2025-05-08T18:10:56.207634Z",
     "start_time": "2025-05-08T18:10:56.200263Z"
    }
   },
   "source": [
    "params = np.array([0.1, 0.2])\n",
    "print(qml.draw(my_full_circuit)(params))"
   ],
   "outputs": [
    {
     "name": "stdout",
     "output_type": "stream",
     "text": [
      "0: ──RX(0.10)─╭●─┤  <Z>\n",
      "1: ──RY(0.20)─╰X─┤     \n"
     ]
    }
   ],
   "execution_count": 21
  },
  {
   "cell_type": "markdown",
   "metadata": {},
   "source": [
    "### Circuit inversé avec `qml.adjoint` (Inverser un bloc de circuit)\n",
    "\n",
    "PennyLane permet d’inverser une ou plusieurs opérations quantiques en utilisant `qml.adjoint(...)`. Cela inverse la ou les portes quantiques spécifiées, y compris celles qui dépendent de paramètres.\n",
    "\n",
    "Cette fonctionnalité est utile dans plusieurs cas :\n",
    "- Les *algorithmes d’amplification d’amplitude* (Grover-like),\n",
    "- Lorsqu’on souhaite **restaurer un état quantique initial** après une manipulation.\n",
    "\n",
    "\n",
    "#### Exemple : inversion d’un circuit défini par sous-fonctions"
   ]
  },
  {
   "cell_type": "code",
   "metadata": {
    "ExecuteTime": {
     "end_time": "2025-05-08T18:10:56.253446Z",
     "start_time": "2025-05-08T18:10:56.245724Z"
    }
   },
   "source": [
    "def encoding_layer(params):\n",
    "    qml.RX(params[0], wires=0)\n",
    "    qml.RY(params[1], wires=1)\n",
    "\n",
    "def entangling_layer():\n",
    "    qml.CNOT(wires=[0, 1])\n",
    "\n",
    "def my_full_circuit(params):\n",
    "    encoding_layer(params)\n",
    "    entangling_layer()\n",
    "    \n",
    "    qml.Barrier(wires=[0, 1]) # ajouter une barrière de séparation\n",
    "\n",
    "    # Inverser tout ce qui précède :\n",
    "    qml.adjoint(entangling_layer)()\n",
    "    qml.adjoint(encoding_layer)(params)\n",
    "\n",
    "    return qml.expval(qml.PauliZ(0))"
   ],
   "outputs": [],
   "execution_count": 22
  },
  {
   "cell_type": "code",
   "metadata": {
    "ExecuteTime": {
     "end_time": "2025-05-08T18:10:56.327473Z",
     "start_time": "2025-05-08T18:10:56.317110Z"
    }
   },
   "source": [
    "params = [np.pi/4, np.pi/3]\n",
    "print(qml.draw(my_full_circuit)(params))"
   ],
   "outputs": [
    {
     "name": "stdout",
     "output_type": "stream",
     "text": [
      "0: ──RX(0.79)─╭●─╭||─╭X†──RX(0.79)†─┤  <Z>\n",
      "1: ──RY(1.05)─╰X─╰||─╰X†──RY(1.05)†─┤     \n"
     ]
    }
   ],
   "execution_count": 23
  },
  {
   "cell_type": "markdown",
   "metadata": {},
   "source": [
    "Ici, le circuit applique une couche d'encodage suivie d’un enchevêtrement, **puis annule** les opérations dans l’ordre inverse.  \n",
    "L’état quantique final devrait donc être (idéalement) identique à l’état initial — sauf si le circuit inclut du bruit, auquel cas l’inversion ne restaurera pas parfaitement l’état initial."
   ]
  },
  {
   "cell_type": "markdown",
   "metadata": {},
   "source": [
    "## Exercice 2 : Circuit quantique complexe\n",
    "\n",
    "Créer un circuit avec **3 qubits**.\n",
    "\n",
    "1. Appliquer une **couche d'initialisation** mettant tous les qubits en superposition.\n",
    "2. Construire une **couche répétée `n` fois** (ici `n = 3`). Chaque couche contient :\n",
    "   - Une **sous-couche de rotations** : appliquer successivement `RX` (pi/2), `RY` (pi/4) et `RZ` (Dynamique - utilise le i-ème paramètre) sur chaque qubit.\n",
    "   - Une **sous-couche d’intrication** : appliquer `CZ` entre les qubits (0,1) et (1,2).\n",
    "   - Une **barrière** pour délimiter visuellement les étapes (optionnelle).\n",
    "3. Ajouter **l’inverse du circuit** (mêmes portes dans l’ordre inverse).\n",
    "4. Effectuer une **mesure** avec `qml.counts()`.\n",
    "\n",
    "**Objectif :** Vérifiez le résultat — vous devriez retrouver uniquement l’état `|000⟩`, car le circuit appliqué suivi de son inverse ramène les qubits à leur état initial."
   ]
  },
  {
   "cell_type": "code",
   "metadata": {
    "ExecuteTime": {
     "end_time": "2025-05-08T18:10:56.897262Z",
     "start_time": "2025-05-08T18:10:56.394605Z"
    }
   },
   "source": [
    "circuit_2 = qml.device(\"default.qubit\", wires=3, shots=1000)\n",
    "\n",
    "def initialise():\n",
    "    for i in range(3):\n",
    "        qml.Hadamard(wires=i)\n",
    "def iteration(n, params):\n",
    "    for i in range(n):\n",
    "        for j in range(3):\n",
    "            qml.RX(np.pi/2,wires=j)\n",
    "            qml.RY(np.pi/4,wires=j)\n",
    "            qml.RZ(params[i],wires=j)\n",
    "\n",
    "        qml.CZ([0,1])\n",
    "        qml.CZ([1,2])\n",
    "        qml.Barrier()\n",
    "def reverse_iterate(n, params):\n",
    "    for i in reversed(range(n)):\n",
    "        qml.Barrier(wires=[0, 1, 2])\n",
    "        qml.CZ(wires=[1, 2])\n",
    "        qml.CZ(wires=[0, 1])\n",
    "        for j in reversed(range(3)):\n",
    "            qml.RZ(-params[i], wires=j)\n",
    "            qml.RY(-np.pi/4, wires=j)\n",
    "            qml.RX(-np.pi/2, wires=j)\n",
    "\n",
    "@qml.qnode(circuit_2)\n",
    "def assemble(n, params):\n",
    "    initialise()\n",
    "    qml.Barrier()\n",
    "    iteration(n, params)\n",
    "    reverse_iterate(n, params)\n",
    "    initialise()\n",
    "    return qml.counts(wires=[0, 1, 2])\n",
    "\n",
    "params = [np.pi/2,np.pi/3,np.pi/4]\n",
    "result = assemble(3, params)\n",
    "print(\"Probabilities:\", result)\n",
    "\n",
    "# Plot the circuit\n",
    "qml.drawer.draw_mpl(assemble)(3, params)"
   ],
   "outputs": [
    {
     "name": "stdout",
     "output_type": "stream",
     "text": [
      "Probabilities: {np.str_('000'): np.int64(1000)}\n"
     ]
    },
    {
     "data": {
      "text/plain": [
       "(<Figure size 4200x400 with 1 Axes>, <Axes: >)"
      ]
     },
     "execution_count": 24,
     "metadata": {},
     "output_type": "execute_result"
    },
    {
     "data": {
      "text/plain": [
       "<Figure size 4200x400 with 1 Axes>"
      ],
      "image/png": "[encoded data removed]"
     },
     "metadata": {},
     "output_type": "display_data"
    }
   ],
   "execution_count": 24
  },
  {
   "cell_type": "markdown",
   "metadata": {},
   "source": [
    "# Exécution via QNode (`qml.QNode`)\n",
    "\n",
    "Dans PennyLane, un [QNode](https://docs.pennylane.ai/en/stable/code/api/pennylane.QNode.html) (Quantum Node) est un objet qui encapsule un circuit quantique et le dispositif (simulateur ou matériel réel) sur lequel il est exécuté.\n",
    "\n",
    "C’est ce qui permet d’exécuter un circuit et de récupérer les resultats mesurée.\n",
    "\n",
    "\n",
    "Deux méthodes pour créer un QNode :\n",
    "\n",
    "\n",
    "## 1. Instanciation explicite (`qml.QNode(...)`)\n",
    "\n",
    "Cette méthode donne plus de contrôle sur la création du circuit."
   ]
  },
  {
   "cell_type": "code",
   "metadata": {
    "ExecuteTime": {
     "end_time": "2025-05-08T18:10:56.918766Z",
     "start_time": "2025-05-08T18:10:56.909828Z"
    }
   },
   "source": [
    "\n",
    "dev = qml.device(\"default.qubit\", wires=2) # Définir le device (simulateur)\n",
    "\n",
    "# Définir la fonction quantique (sans décorateur ici)\n",
    "def my_quantum_circuit(x):\n",
    "    qml.RX(x, wires=0)\n",
    "    qml.CNOT(wires=[0, 1])\n",
    "    return qml.expval(qml.PauliZ(1))\n",
    "\n",
    "\n",
    "qnode = qml.QNode(my_quantum_circuit, dev) # Créer le QNode explicitement\n",
    "\n",
    "# Exécuter\n",
    "result = qnode(np.pi / 2)\n",
    "print(f\"Résultat : {result}\")"
   ],
   "outputs": [
    {
     "name": "stdout",
     "output_type": "stream",
     "text": [
      "Résultat : 0.0\n"
     ]
    }
   ],
   "execution_count": 25
  },
  {
   "cell_type": "markdown",
   "metadata": {},
   "source": [
    "**Avantages** :\n",
    "- Plus flexible (on peut créer dynamiquement plusieurs QNodes avec différents devices).\n",
    "- Adapté aux projets plus complexes."
   ]
  },
  {
   "cell_type": "markdown",
   "metadata": {},
   "source": [
    "## 2. Approche par décorateur (`@qml.qnode`)\n",
    "\n",
    "Méthode plus concise et pythonique, idéale pour les cas simples ou pédagogiques."
   ]
  },
  {
   "cell_type": "code",
   "metadata": {
    "ExecuteTime": {
     "end_time": "2025-05-08T18:10:56.970169Z",
     "start_time": "2025-05-08T18:10:56.962425Z"
    }
   },
   "source": [
    "dev = qml.device(\"default.qubit\", wires=2) # Définir le device\n",
    "\n",
    "# Ajouter le décorateur sur la fonction\n",
    "@qml.qnode(dev)\n",
    "def my_quantum_circuit(x):\n",
    "    qml.RX(x, wires=0)\n",
    "    qml.CNOT(wires=[0, 1])\n",
    "    return qml.expval(qml.PauliZ(1))\n",
    "\n",
    "# Exécuter\n",
    "result = my_quantum_circuit(np.pi / 2)\n",
    "print(f\"Résultat : {result}\")"
   ],
   "outputs": [
    {
     "name": "stdout",
     "output_type": "stream",
     "text": [
      "Résultat : 0.0\n"
     ]
    }
   ],
   "execution_count": 26
  },
  {
   "cell_type": "markdown",
   "metadata": {},
   "source": [
    "**Avantages** :\n",
    "- Syntaxe claire et directe.\n",
    "- Idéal pour notebooks interactifs et démonstrations.\n",
    "\n",
    "### Remarque :\n",
    "\n",
    "Peu importe la méthode choisie, une **fonction quantique (circuit)** devient exécutable uniquement une fois qu’elle est associée à un QNode.\n",
    "\n",
    "QNode est le mécanisme standard pour rendre un circuit exécutable et différentiable dans PennyLane."
   ]
  },
  {
   "cell_type": "markdown",
   "metadata": {},
   "source": [
    "### Pour aller plus loin : QNode et graphes computationnels hybrides (optionnel)\n",
    "Pour ceux qui souhaitent approfondir leur compréhension.\n",
    "\n",
    "Un QNode est appelé ainsi car il représente un nœud (node) dans un graphe computationnel hybride combinant calculs classiques et quantiques. le QNode reçoit des entrées (paramètres), effectue des calculs quantiques, puis transmet les résultats à d'autres composants du système, facilitant ainsi l'intégration transparente entre les parties classiques et quantiques d'un algorithme."
   ]
  },
  {
   "cell_type": "markdown",
   "metadata": {},
   "source": [
    "## Exercice 3 : QNode\n",
    "Créer un circuit quantique simple avec 2 qubits (par ex. H + CNOT + mesure), l'exécuter sur trois types de device en utilisant les deux methods de creation de QNode.\n",
    "\n",
    "Device à utiliser :\n",
    "- default.qubit — simulateur sans bruit\n",
    "- ibmq.quebec — backend réel (optionnel). Si indisponible, utiliser FakeQuebec"
   ]
  },
  {
   "cell_type": "code",
   "metadata": {
    "ExecuteTime": {
     "end_time": "2025-05-08T18:11:02.264447Z",
     "start_time": "2025-05-08T18:10:57.013866Z"
    }
   },
   "source": [
    "from qiskit_aer import AerSimulator\n",
    "\n",
    "# Backend simulé\n",
    "simulator = AerSimulator.from_backend(FakeQuebec())\n",
    "device1 = qml.device(\"qiskit.aer\", backend=simulator, wires=2, shots=1000)\n",
    "device2 = qml.device(\"default.qubit\", wires=2)\n",
    "\n",
    "def exo3_explicite():\n",
    "    qml.Hadamard(wires=0)\n",
    "    qml.Hadamard(wires=1)\n",
    "    qml.CNOT(wires=[0, 1])\n",
    "    return qml.expval(qml.PauliZ(1))\n",
    "circuit_3 = qml.QNode(exo3_explicite, device1)\n",
    "print(f\"Résultat : {circuit_3()}\")\n",
    "\n",
    "@qml.qnode(device1)\n",
    "def exo3_decorator():\n",
    "    qml.Hadamard(wires=0)\n",
    "    qml.Hadamard(wires=1)\n",
    "    qml.CNOT(wires=[0, 1])\n",
    "    return qml.expval(qml.PauliZ(1))\n",
    "result = exo3_decorator()\n",
    "print(f\"Résultat : {result}\")"
   ],
   "outputs": [
    {
     "name": "stdout",
     "output_type": "stream",
     "text": [
      "Résultat : -0.028\n",
      "Résultat : 0.042\n"
     ]
    }
   ],
   "execution_count": 27
  },
  {
   "cell_type": "markdown",
   "metadata": {},
   "source": [
    "## Diffusion des paramètres (Parameter Broadcasting)\n",
    "\n",
    "Les **QNodes** peuvent être exécutés **simultanément** pour plusieurs configurations de paramètres.  \n",
    "Ce mécanisme s’appelle la **diffusion de paramètres** (*parameter broadcasting* ou *parameter batching*).\n",
    "\n",
    "Considérons ce circuit à un seul qubit :"
   ]
  },
  {
   "cell_type": "code",
   "metadata": {
    "ExecuteTime": {
     "end_time": "2025-05-08T18:11:02.326021Z",
     "start_time": "2025-05-08T18:11:02.319909Z"
    }
   },
   "source": [
    "dev = qml.device(\"default.qubit\", wires=1)\n",
    "\n",
    "@qml.qnode(dev)\n",
    "def circuit(x):\n",
    "    qml.RX(x, wires=0)\n",
    "    return qml.expval(qml.Z(0))"
   ],
   "outputs": [],
   "execution_count": 28
  },
  {
   "cell_type": "markdown",
   "metadata": {},
   "source": [
    "\n",
    "Si l’on souhaite exécuter ce circuit pour **plusieurs valeurs de `x`**,  \n",
    "il suffit de les passer sous forme d’un **tableau unidimensionnel** :"
   ]
  },
  {
   "cell_type": "code",
   "metadata": {
    "ExecuteTime": {
     "end_time": "2025-05-08T18:11:02.361920Z",
     "start_time": "2025-05-08T18:11:02.353811Z"
    }
   },
   "source": [
    "x = np.array([np.pi / 6, np.pi * 3 / 4, np.pi * 7 / 6])\n",
    "results = circuit(x)\n",
    "print(results)"
   ],
   "outputs": [
    {
     "name": "stdout",
     "output_type": "stream",
     "text": [
      "[ 0.8660254  -0.70710678 -0.8660254 ]\n"
     ]
    }
   ],
   "execution_count": 29
  },
  {
   "cell_type": "markdown",
   "metadata": {},
   "source": [
    "Les **résultats** sont automatiquement **regroupés** dans un seul tableau (`np.array`).\n",
    "- Mais surtout :  \n",
    "  **PennyLane exécute les 3 cas en une seule simulation du circuit** (si le backend le permet),  plutôt que 3 exécutions séparées. \n",
    "\n",
    "Pour aller plus loin sur les cas compatibles et les limites :  \n",
    "[Voir la documentation officielle sur le parameter broadcasting](https://docs.pennylane.ai/en/stable/code/api/pennylane.qnode.html#parameter-broadcasting)"
   ]
  },
  {
   "cell_type": "markdown",
   "metadata": {},
   "source": [
    "## Construction & exécution de circuits avec `QuantumScript` et `qml.execute`\n",
    "\n",
    "Au lieu de passer par un **QNode**, on peut directement construire une **liste d’opérations quantiques** (`Operator`) et créer un objet `QuantumScript` pour l’exécuter.\n",
    "\n",
    "*Cette méthode est plus proche de ce qu’on retrouve dans d'autres frameworks comme **Qiskit**, et elle offre **plus de flexibilité** dans la manipulation des circuits.*\n",
    "\n",
    "\n",
    "\n",
    "### Qu’est-ce qu’un `QuantumScript` ?\n",
    "\n",
    "Un `QuantumScript` est une représentation explicite d’un circuit quantique à exécuter :\n",
    "\n",
    "- Il **contient une séquence d’opérations** (`qml.RX`, `qml.CNOT`, etc.).\n",
    "- Il **spécifie les mesures** à effectuer (`qml.expval`, `qml.counts`, etc.).\n",
    "- Il peut aussi **inclure des paramètres** et le nombre de *shots*.\n",
    "\n",
    "\n",
    "Une fois `QuantumScript` créé, il peut être exécuté manuellement via `qml.execute`\n"
   ]
  },
  {
   "cell_type": "code",
   "metadata": {
    "ExecuteTime": {
     "end_time": "2025-05-08T18:11:02.409100Z",
     "start_time": "2025-05-08T18:11:02.393017Z"
    }
   },
   "source": [
    "import pennylane as qml\n",
    "from pennylane.tape import QuantumScript\n",
    "from pennylane import numpy as np\n",
    "\n",
    "dev = qml.device(\"default.qubit\", wires=2, shots=1000) # 1) Définir le device\n",
    "\n",
    "# 2) Construire la liste d'opérations\n",
    "operations = []\n",
    "operations.append(qml.Hadamard(wires=0))\n",
    "operations.append(qml.CNOT(wires=[0, 1]))\n",
    "operations.append(qml.RZ(np.pi / 4, wires=1))\n",
    "\n",
    "## plus simple\n",
    "# operations = [qml.Hadamard(wires=0), qml.CNOT(wires=[0, 1]), qml.RZ(np.pi / 4, wires=1)]\n",
    "\n",
    "# 3) Définir la mesure (ici, on veut les comptes)\n",
    "measurements = [qml.counts(wires=[0, 1])]\n",
    "\n",
    "# 4) Créer le QuantumScript (spécifier les shots)\n",
    "qscript = QuantumScript(operations, measurements, shots=1000)\n",
    "\n",
    "# 5) Exécuter en batch (ici un seul circuit)\n",
    "results = qml.execute([qscript], dev)\n",
    "\n",
    "print(results)  # renvoie une liste de résultats  ([qml.execute — PennyLane 0.41.0 documentation](https://docs.pennylane.ai/en/stable/code/api/pennylane.execute.html))\n"
   ],
   "outputs": [
    {
     "name": "stdout",
     "output_type": "stream",
     "text": [
      "({np.str_('00'): np.int64(485), np.str_('11'): np.int64(515)},)\n"
     ]
    }
   ],
   "execution_count": 30
  },
  {
   "cell_type": "markdown",
   "metadata": {},
   "source": [
    "Dans cette exemple, on a:\n",
    "- **List d'operations** : liste d’objets `qml.operation.Operator`.  \n",
    "- **measurements** : liste d’objets `qml.measure.M` (ici `qml.counts`).  \n",
    "- **QuantumScript** assemble ces deux éléments et le nombre de *shots*.  \n",
    "- **qml.execute** exécute le batch de scripts sur le device, en une seule passe si le backend le supporte  ([qml.execute — PennyLane 0.41.0 documentation](https://docs.pennylane.ai/en/stable/code/api/pennylane.execute.html)).\n",
    "\n",
    "**Quand utiliser QuantumScript+execute ?** \n",
    "- Construction dynamique : manipulez librement la liste d’opérations avant de créer le QuantumScript (ajout, suppression, inversion, ), puis passez-la à QuantumScript pour verrouiller le circuit et l’exécuter.\n",
    "- Pour des **batchs** de circuits très variés ou dynamiques.  \n",
    "- Pour **inspecter** ou **transformer** les circuits avant exécution.  \n",
    "- Lorsqu’on veut gérer manuellement le **workflow** d’exécution (caching, custom gradients).\n",
    "\n",
    "Note : un QuantumScript est immutable après son initialisation ; on ne peut pas modifier ses opérations ou mesures une fois qu’il est créé\n",
    "\n",
    "\n",
    "### Pour aller plus loin\n",
    "\n",
    "- [`QuantumScript`](https://docs.pennylane.ai/en/stable/code/api/pennylane.tape.QuantumScript.html)\n",
    "- [`qml.execute()`](https://docs.pennylane.ai/en/stable/code/api/pennylane.execute.html)\n",
    "- [`QuantumTape` versus `QuantumScript`](https://docs.pennylane.ai/en/stable/code/qml_tape.html#tape-vs-script)\n"
   ]
  },
  {
   "cell_type": "markdown",
   "metadata": {},
   "source": [
    "## Exercice 4 : exécution en batch\n",
    "\n",
    "À l’aide de `QuantumScript`, créez 4 circuits correspondant aux 4 états de Bell.  \n",
    "Exécutez-les tous en une seule fois avec `qml.execute`, puis affichez les résultats."
   ]
  },
  {
   "metadata": {
    "ExecuteTime": {
     "end_time": "2025-05-08T18:11:27.226171Z",
     "start_time": "2025-05-08T18:11:26.732139Z"
    }
   },
   "cell_type": "code",
   "source": [
    "dev = qml.device(\"default.qubit\", wires=2, shots=1000)\n",
    "\n",
    "# 2. Définir la mesure\n",
    "measurements = [qml.counts(wires=[0, 1])]\n",
    "\n",
    "# 3. Définir les 4 circuits Bell avec leurs opérations\n",
    "bell_scripts = []\n",
    "\n",
    "# Bell Φ⁺ = (|00⟩ + |11⟩)/√2\n",
    "ops_phi_plus = [\n",
    "    qml.Hadamard(wires=0),\n",
    "    qml.CNOT(wires=[0, 1])\n",
    "]\n",
    "bell_scripts.append(QuantumScript(ops_phi_plus, measurements, shots=1000))\n",
    "\n",
    "# Bell Φ⁻ = (|00⟩ − |11⟩)/√2\n",
    "ops_phi_minus = [\n",
    "    qml.Hadamard(wires=0),\n",
    "    qml.CNOT(wires=[0, 1]),\n",
    "    qml.PauliZ(wires=0)\n",
    "]\n",
    "bell_scripts.append(QuantumScript(ops_phi_minus, measurements, shots=1000))\n",
    "\n",
    "# Bell Ψ⁺ = (|01⟩ + |10⟩)/√2\n",
    "ops_psi_plus = [\n",
    "    qml.PauliX(wires=0),\n",
    "    qml.Hadamard(wires=0),\n",
    "    qml.CNOT(wires=[0, 1])\n",
    "]\n",
    "bell_scripts.append(QuantumScript(ops_psi_plus, measurements, shots=1000))\n",
    "\n",
    "# Bell Ψ⁻ = (|01⟩ − |10⟩)/√2\n",
    "ops_psi_minus = [\n",
    "    qml.PauliX(wires=0),\n",
    "    qml.Hadamard(wires=0),\n",
    "    qml.CNOT(wires=[0, 1]),\n",
    "    qml.PauliZ(wires=0)\n",
    "]\n",
    "bell_scripts.append(QuantumScript(ops_psi_minus, measurements, shots=1000))\n",
    "\n",
    "# 4. Exécution en batch\n",
    "results = qml.execute(bell_scripts, dev)\n",
    "import matplotlib.pyplot as plt\n",
    "# 5. Affichage des résultats\n",
    "bell_names = [\"Φ⁺\", \"Φ⁻\", \"Ψ⁺\", \"Ψ⁻\"]\n",
    "for name, counts in zip(bell_names, results):\n",
    "    plt.figure()\n",
    "    plt.bar(counts.keys(), counts.values())\n",
    "    plt.title(f\"Bell State {name}\")\n",
    "    plt.xlabel(\"Bitstrings\")\n",
    "    plt.ylabel(\"Counts\")\n",
    "    plt.grid(True)\n",
    "    plt.tight_layout()\n",
    "plt.show()"
   ],
   "outputs": [
    {
     "data": {
      "text/plain": [
       "<Figure size 640x480 with 1 Axes>"
      ],
      "image/png": "[encoded data removed]"
     },
     "metadata": {},
     "output_type": "display_data"
    },
    {
     "data": {
      "text/plain": [
       "<Figure size 640x480 with 1 Axes>"
      ],
      "image/png": "[encoded data removed]"
     },
     "metadata": {},
     "output_type": "display_data"
    },
    {
     "data": {
      "text/plain": [
       "<Figure size 640x480 with 1 Axes>"
      ],
      "image/png": "[encoded data removed]"
     },
     "metadata": {},
     "output_type": "display_data"
    },
    {
     "data": {
      "text/plain": [
       "<Figure size 640x480 with 1 Axes>"
      ],
      "image/png": "[encoded data removed]"
     },
     "metadata": {},
     "output_type": "display_data"
    }
   ],
   "execution_count": 32
  },
  {
   "cell_type": "markdown",
   "metadata": {},
   "source": [
    "# La Mesure\n",
    "\n",
    "Un circuit quantique se termine en général par une mesure : c’est à ce moment qu’on récupère de l’information classique à partir de l’état quantique.\n",
    "Dans PennyLane, on ajoute les mesures avec l’instruction `return` à la fin de la fonction quantique, ou directement dans un QuantumScript, comme on l’a vu plus tôt.\n",
    "\n",
    "Il existe plusieurs types de mesures, chacune donnant un type d'information différent. On peut les classer en deux grandes catégories :\n",
    "\n",
    "- 1) Mesures Statistiques (basées sur les shots): Simulent l'exécution répétée du circuit, comme sur du matériel réel. Nécessitent que le device soit configuré avec shots > 0. Les résultats sont aléatoires et convergent vers les vraies probabilités avec un grand nombre de shots.\n",
    "\n",
    "    + `qml.sample()`: Retourne une liste brute des résultats de chaque shot.\n",
    "\n",
    "    + `qml.counts()`: Retourne un dictionnaire résumant le nombre de fois où chaque résultat a été obtenu.\n",
    "\n",
    "- 2) Mesures Analytiques (souvent shots=None): Calculent le résultat exact basé sur l'état quantique final (si le simulateur le permet). Ne nécessitent généralement pas de shots. Les résultats sont déterministes.\n",
    "\n",
    "    + `qml.state()`: Retourne le vecteur d'état quantique complet (pour simulateurs d'état).\n",
    "  \n",
    "    + `qml.probs()`: Retourne les probabilités pour chaque état de base.\n",
    "\n",
    "    + `qml.expval(Observable)`: Retourne la valeur moyenne (espérance) d'un observable donné.  \n",
    "\n",
    "\n",
    "\n",
    "**Mesure en base computationnelle** : Si aucun observable n'est fourni, la mesure se fait dans la base ∣0⟩,∣1⟩.\n",
    "\n",
    "**Mesure d’un observable** :  \n",
    "Si un observable est fourni (ex : `qml.PauliX(0)`), PennyLane applique automatiquement les rotations nécessaires pour mesurer dans la base de cet observable et renvoie les valeurs propres (±1 pour les opérateurs de Pauli) mesurées à chaque shot.\n",
    "\n",
    "Les fonctions quantiques peuvent retourner des mesures combinées de plusieurs observables.  \n",
    "Si les observables ne commutent pas, plusieurs exécutions du circuit peuvent être nécessaires en arrière-plan.\n",
    "\n",
    "Explorons les plus courantes avec des exemples. Préparons un device pour les exemples statistiques (shots > 0) et un pour les exemples analytiques (shots=None) :\n"
   ]
  },
  {
   "cell_type": "code",
   "metadata": {
    "ExecuteTime": {
     "end_time": "2025-05-08T18:11:32.988848Z",
     "start_time": "2025-05-08T18:11:32.982911Z"
    }
   },
   "source": [
    "import pennylane as qml\n",
    "from pennylane import numpy as np\n",
    "\n",
    "# Device pour mesures statistiques (échantillonnage)\n",
    "dev_stat = qml.device(\"default.qubit\", wires=2, shots=1024)\n",
    "\n",
    "# Device pour mesures analytiques (calculs exacts)\n",
    "dev_analytic = qml.device(\"default.qubit\", wires=2) # shots=None par défaut\n",
    "\n",
    "print(dev_stat)\n",
    "print(dev_analytic)"
   ],
   "outputs": [
    {
     "name": "stdout",
     "output_type": "stream",
     "text": [
      "<default.qubit device (wires=2, shots=1024) at 0x1a5c99713d0>\n",
      "<default.qubit device (wires=2) at 0x1a5c9f89610>\n"
     ]
    }
   ],
   "execution_count": 33
  },
  {
   "cell_type": "markdown",
   "metadata": {},
   "source": [
    "## Mesures Statistiques : qml.sample et qml.counts\n",
    "Sur un ordinateur quantique réel, chaque exécution du circuit (appelée un **shot**) donne un résultat aléatoire. Pour obtenir des statistiques fiables, on répète donc le circuit plusieurs fois et on collecte tous les résultats.\n",
    "\n",
    "Dans PennyLane, cela se fait grâce à deux fonctions principales :\n",
    "- `qml.sample()`: d’obtenir la liste brute des résultats\n",
    "- `qml.counts()` : permet de compter combien de fois chaque résultat apparaît.\n"
   ]
  },
  {
   "cell_type": "markdown",
   "metadata": {},
   "source": [
    "### `qml.sample()` : Obtenir les échantillons bruts. \n",
    "`qml.sample()` renvoie directement la liste des résultats obtenus pour chaque shot."
   ]
  },
  {
   "cell_type": "code",
   "metadata": {
    "ExecuteTime": {
     "end_time": "2025-05-08T18:11:35.655499Z",
     "start_time": "2025-05-08T18:11:35.642284Z"
    }
   },
   "source": [
    "@qml.qnode(dev_stat)\n",
    "def circuit_sample_basis():\n",
    "    qml.Hadamard(wires=0)\n",
    "    qml.CNOT(wires=[0, 1])\n",
    "    \n",
    "    return qml.sample(wires=[0, 1]) # Mesure les deux qubits dans la base computationnelle\n",
    "\n",
    "samples_basis = circuit_sample_basis()\n",
    "print(f\"Premiers 10 échantillons (base computationnelle): {samples_basis[:10]}\")\n",
    "# Attendu : ~50% [0, 0] et ~50% [1, 1]"
   ],
   "outputs": [
    {
     "name": "stdout",
     "output_type": "stream",
     "text": [
      "Premiers 10 échantillons (base computationnelle): [[1 1]\n",
      " [1 1]\n",
      " [1 1]\n",
      " [0 0]\n",
      " [0 0]\n",
      " [0 0]\n",
      " [0 0]\n",
      " [0 0]\n",
      " [0 0]\n",
      " [1 1]]\n"
     ]
    }
   ],
   "execution_count": 34
  },
  {
   "cell_type": "markdown",
   "metadata": {},
   "source": [
    "Voici un exemple avec la mesure d’un observable `qml.PauliZ(0)` :  \n",
    "*(On s’attend à obtenir environ 50 % de +1 et 50 % de -1, car l’état préparé est \\(|+\\rangle\\)).*\n"
   ]
  },
  {
   "cell_type": "code",
   "metadata": {
    "ExecuteTime": {
     "end_time": "2025-05-08T18:11:38.324949Z",
     "start_time": "2025-05-08T18:11:38.312346Z"
    }
   },
   "source": [
    "@qml.qnode(dev_stat)\n",
    "def circuit_sample_observable():\n",
    "    qml.Hadamard(wires=0)\n",
    "    \n",
    "    return qml.sample(qml.PauliZ(0)) # Mesure l'observable Pauli Z sur le qubit 0\n",
    "\n",
    "samples_z0 = circuit_sample_observable()\n",
    "print(f\"\\nPremiers 10 échantillons (Observable Z0): {samples_z0[:10]}\")"
   ],
   "outputs": [
    {
     "name": "stdout",
     "output_type": "stream",
     "text": [
      "\n",
      "Premiers 10 échantillons (Observable Z0): [ 1. -1. -1. -1.  1. -1. -1. -1.  1. -1.]\n"
     ]
    }
   ],
   "execution_count": 35
  },
  {
   "cell_type": "markdown",
   "metadata": {},
   "source": [
    "On peut aussi mesurer des observables tensoriels"
   ]
  },
  {
   "cell_type": "code",
   "metadata": {
    "ExecuteTime": {
     "end_time": "2025-05-08T18:11:40.091556Z",
     "start_time": "2025-05-08T18:11:40.079465Z"
    }
   },
   "source": [
    "@qml.qnode(dev_stat)\n",
    "def circuit_sample_tensor():\n",
    "    qml.Hadamard(wires=0)\n",
    "    qml.CNOT(wires=[0, 1]) # Etat |00> + |11>\n",
    "    \n",
    "    return qml.sample(qml.PauliZ(0) @ qml.PauliZ(1)) # Mesure Z sur qubit 0 ET Z sur qubit 1 (Z0 @ Z1)\n",
    "\n",
    "samples_zz = circuit_sample_tensor()\n",
    "print(f\"\\nPremiers 10 échantillons (Observable Z0@Z1): {samples_zz[:10]}\")\n",
    "# Attendu : Toujours +1 car les mesures de Z0 et Z1 sont corrélées (soit +1*+1=1, soit -1*-1=1)"
   ],
   "outputs": [
    {
     "name": "stdout",
     "output_type": "stream",
     "text": [
      "\n",
      "Premiers 10 échantillons (Observable Z0@Z1): [1. 1. 1. 1. 1. 1. 1. 1. 1. 1.]\n"
     ]
    },
    {
     "name": "stderr",
     "output_type": "stream",
     "text": [
      "C:\\Users\\user\\Desktop\\quantum-computing\\.venv\\Lib\\site-packages\\pennylane\\ops\\op_math\\composite.py:209: FutureWarning: functools.partial will be a method descriptor in future Python versions; wrap it in staticmethod() if you want to preserve the old behavior\n",
      "  return self._math_op(math.vstack(eigvals), axis=0)\n"
     ]
    }
   ],
   "execution_count": 36
  },
  {
   "cell_type": "markdown",
   "metadata": {},
   "source": [
    "## `qml.counts()` : \n",
    "Pour un grand nombre de shots, qml.sample devient lourd. qml.counts est plus pratique : il renvoie un dictionnaire indiquant combien de fois chaque résultat unique a été obtenu.\n",
    "\n",
    "Dans l'exemple suivant, on va retouner plusisuer type mesure a la fois."
   ]
  },
  {
   "cell_type": "code",
   "metadata": {
    "ExecuteTime": {
     "end_time": "2025-05-08T18:11:42.696424Z",
     "start_time": "2025-05-08T18:11:42.670736Z"
    }
   },
   "source": [
    "@qml.qnode(dev_stat)\n",
    "def circuit_counts_basis():\n",
    "    qml.Hadamard(wires=0)\n",
    "    qml.CNOT(wires=[0, 1])\n",
    "    \n",
    "    return qml.counts(), qml.counts(wires=[0]), qml.counts(op=qml.PauliZ(0)@qml.PauliX(1))\n",
    "\n",
    "counts = circuit_counts_basis()\n",
    "print(f\"Comptes (base computationnelle): {counts[0]}\")\n",
    "print(f\"Comptes (base computationnelle) qubit 0: {counts[1]}\")\n",
    "print(f\"Comptes (Observable Z0@X1): {counts[2]}\")\n"
   ],
   "outputs": [
    {
     "name": "stdout",
     "output_type": "stream",
     "text": [
      "Comptes (base computationnelle): {np.str_('00'): np.int64(506), np.str_('11'): np.int64(518)}\n",
      "Comptes (base computationnelle) qubit 0: {np.str_('0'): np.int64(506), np.str_('1'): np.int64(518)}\n",
      "Comptes (Observable Z0@X1): {np.float64(-1.0): np.int64(494), np.float64(1.0): np.int64(530)}\n"
     ]
    }
   ],
   "execution_count": 37
  },
  {
   "cell_type": "markdown",
   "metadata": {},
   "source": [
    "## Mesures Analytiques et/ou Statistiques : `qml.probs` et `qml.expval`\n",
    "\n",
    "Avec `shots=None` (simulateur), ces mesures donnent des résultats exacts.  \n",
    "Sur un vrai appareil ou avec `shots > 0`, elles deviennent des estimations statistiques basées sur un nombre fini de mesures (shot noise).\n",
    "\n",
    "- `qml.probs()` donne la distribution de probabilité sur les états mesurés.\n",
    "- `qml.expval()` donne la valeur moyenne (espérance) d’un observable.\n",
    "\n",
    "Des explications et exemples détaillés suivent dans les sous-sections."
   ]
  },
  {
   "cell_type": "markdown",
   "metadata": {},
   "source": [
    "### `qml.probs()` : Obtenir les probabilités\n",
    "\n",
    "`qml.probs()` retourne la distribution de probabilité sur les états de base (computationnels) ou sur les valeurs d’un observable.\n",
    "\n",
    "- Sur des wires, elle donne la proba de chaque état de base (ex : |0>, |1>, |00>, |11>, etc.).\n",
    "- Sur un observable à deux valeurs (ex : PauliZ), elle donne la proba d’obtenir +1 ou -1.  "
   ]
  },
  {
   "cell_type": "code",
   "metadata": {
    "ExecuteTime": {
     "end_time": "2025-05-08T18:11:48.321237Z",
     "start_time": "2025-05-08T18:11:48.312627Z"
    }
   },
   "source": [
    "@qml.qnode(dev_analytic)\n",
    "def circuit_probs_basis():\n",
    "    qml.Hadamard(wires=0)\n",
    "    qml.CNOT(wires=[0, 1]) # Etat |00> + |11>\n",
    "    \n",
    "    return qml.probs(wires=0), qml.probs(wires=[0, 1])\n",
    "\n",
    "probs_basis = circuit_probs_basis()\n",
    "print(f\"Probabilités (base computationnelle q0 |0>,|1>): {probs_basis[0]}\")\n",
    "print(f\"Probabilités (base computationnelle |00>,|01>,|10>,|11>): {probs_basis[1]}\")"
   ],
   "outputs": [
    {
     "name": "stdout",
     "output_type": "stream",
     "text": [
      "Probabilités (base computationnelle q0 |0>,|1>): [0.5 0.5]\n",
      "Probabilités (base computationnelle |00>,|01>,|10>,|11>): [0.5 0.  0.  0.5]\n"
     ]
    }
   ],
   "execution_count": 38
  },
  {
   "cell_type": "markdown",
   "metadata": {},
   "source": [
    "### `qml.expval(Observable)` : Obtenir la valeur moyenne (Expectation Values)\n",
    "\n",
    "Les **valeurs moyennes**, ou **valeurs d’espérance**, sont l’un des types de mesures les plus utilisés en informatique quantique, notamment pour l’**optimisation** et le **machine learning**.  \n",
    "\n",
    "Les valeurs d’espérance (expval) sont calculées de manière analytique et déterministe : elles fournissent un résultat exact sans être affectées par le bruit de l’échantillonnage.\n",
    "\n",
    "**Rappel théorique :** Si on a un **état quantique** $|\\psi\\rangle$ et un **observable** représenté par l’opérateur $\\hat{O}$, alors la **valeur moyenne** de cette mesure est donnée par :\n",
    "\n",
    "$$\\langle \\hat{O} \\rangle = \\langle \\psi | \\hat{O} | \\psi \\rangle$$\n",
    "\n",
    "Cela nous donne une estimation **déterministe** (non aléatoire) du résultat moyen qu'on obtiendrait si on mesurait plusieurs fois le même état.\n",
    "\n",
    "\n",
    "Prenons un exemple simple. On prépare un circuit quantique dans lequel on applique une porte **X** (NOT) sur le **deuxième qubit**.  \n",
    "Puis, on mesure l’observable **Pauli-Z** sur le **premier qubit**.\n",
    "\n",
    "**Question** : Quelle est la valeur moyenne attendue de $Z$ pour le premier qubit ?  \n",
    "Réponse : l’état initial est $|0\\rangle$, donc :\n",
    "\n",
    "$$\\langle Z \\rangle = \\langle 0 | \\hat{Z} | 0 \\rangle = 1$$\n",
    "\n",
    "Vérifions cela dans PennyLane :\n"
   ]
  },
  {
   "cell_type": "code",
   "metadata": {
    "ExecuteTime": {
     "end_time": "2025-05-08T18:11:54.686282Z",
     "start_time": "2025-05-08T18:11:54.677568Z"
    }
   },
   "source": [
    "@qml.qnode(dev_analytic)\n",
    "def simple_circuit_expval():\n",
    "    qml.H(wires=0)  # On applique X sur le 2e qubit (qubit 1)\n",
    "    return qml.expval(qml.PauliZ(0))  # Mesure de Z sur le 1er qubit (qubit 0)\n",
    "\n",
    "# Exécution du circuit\n",
    "simple_circuit_expval()"
   ],
   "outputs": [
    {
     "data": {
      "text/plain": [
       "np.float64(0.0)"
      ]
     },
     "execution_count": 39,
     "metadata": {},
     "output_type": "execute_result"
    }
   ],
   "execution_count": 39
  },
  {
   "cell_type": "markdown",
   "metadata": {},
   "source": [
    "### Rappel sur `expval` et `shots`:\n",
    "Si vous utilisez qml.expval avec un device qui a des shots > 0, PennyLane calculera la valeur moyenne à partir des échantillons recueillis (en moyennant les valeurs propres (\\pm 1) obtenues), plutôt que de faire le calcul analytique exact. Cela simule l'estimation d'une valeur moyenne sur du vrai matériel."
   ]
  },
  {
   "cell_type": "code",
   "metadata": {
    "ExecuteTime": {
     "end_time": "2025-05-08T18:11:58.180867Z",
     "start_time": "2025-05-08T18:11:58.154810Z"
    }
   },
   "source": [
    "@qml.qnode(dev_stat) # Utilise le device avec shots=1024\n",
    "def simple_circuit_expval():\n",
    "    qml.H(wires=0) \n",
    "    return qml.expval(qml.PauliZ(0))  # Théoriquement <+|Z|+> = 0\n",
    "\n",
    "expval_sampled = simple_circuit_expval()\n",
    "print(f\"\\nValeur moyenne de Z0 (état |+>) estimée avec {dev_stat.shots} shots: {expval_sampled:.3f}\")\n",
    "# Attendu : Une valeur proche de 0, mais probablement pas exactement 0 à cause de l'échantillonnage."
   ],
   "outputs": [
    {
     "name": "stdout",
     "output_type": "stream",
     "text": [
      "\n",
      "Valeur moyenne de Z0 (état |+>) estimée avec Shots(total=1024) shots: -0.004\n"
     ]
    }
   ],
   "execution_count": 40
  },
  {
   "cell_type": "markdown",
   "metadata": {},
   "source": [
    "### `qml.state()` : Obtenir le vecteur d'état complet\n",
    "\n",
    "Parfois, notamment pour le débogage ou l'analyse théorique, il est utile d'accéder directement au **vecteur d'état quantique** final du système. Il s'agit de l'état tel qu'il est juste **après l'application de toutes les opérations (portes) définies dans le circuit**, mais *avant* qu'une mesure au sens physique (projection) ne soit simulée. C'est ce que permet `qml.state()`.\n",
    "\n",
    "Il est crucial de comprendre que `qml.state()` fournit une **\"photographie\" mathématique complète** de cet état final. Ce n'est pas une mesure au sens strict de la projection quantique (qui donne un résultat probabiliste et peut modifier l'état), mais plutôt un **accès direct à la description mathématique** de l'état lui-même.\n",
    "\n",
    "\n",
    "Cette fonction n'est disponible que sur les simulateurs capables de calculer et de retourner le vecteur d'état complet (comme `\"default.qubit\"`). Elle ne fonctionnera pas sur du matériel réel ni sur certains types de simulateurs (par exemple, ceux basés uniquement sur l'échantillonnage).\n",
    "\n",
    "**Aucun `shots` ou observable requis :** C'est un calcul analytique direct de l'état final.\n"
   ]
  },
  {
   "cell_type": "code",
   "metadata": {
    "ExecuteTime": {
     "end_time": "2025-05-08T18:12:00.904291Z",
     "start_time": "2025-05-08T18:12:00.894502Z"
    }
   },
   "source": [
    "\n",
    "# On utilise le device analytique (dev_analytic, 2 qubits) défini précédemment\n",
    "@qml.qnode(dev_analytic)\n",
    "def circuit_get_state():\n",
    "    qml.Hadamard(wires=0)\n",
    "    qml.CNOT(wires=[0, 1]) # Crée l'état de Bell |Φ⁺> = (|00> + |11>)/sqrt(2)\n",
    "    # Retourne le vecteur d'état final\n",
    "    return qml.state()\n",
    "\n",
    "final_state_vector = circuit_get_state()\n",
    "\n",
    "print(f\"\\nVecteur d'état final (pour |Φ⁺>):\")\n",
    "print(final_state_vector)\n",
    "# Attendu : [0.70710678+0.j, 0.        +0.j, 0.        +0.j, 0.70710678+0.j]\n",
    "# (correspondant aux amplitudes pour |00>, |01>, |10>, |11>)\n",
    "\n",
    "print(f\"Norme au carré (vérification) : {np.sum(np.abs(final_state_vector)**2):.2f}\") # Doit être 1"
   ],
   "outputs": [
    {
     "name": "stdout",
     "output_type": "stream",
     "text": [
      "\n",
      "Vecteur d'état final (pour |Φ⁺>):\n",
      "[0.70710678+0.j 0.        +0.j 0.        +0.j 0.70710678+0.j]\n",
      "Norme au carré (vérification) : 1.00\n"
     ]
    }
   ],
   "execution_count": 41
  },
  {
   "cell_type": "markdown",
   "metadata": {},
   "source": [
    "### Exemple : Différentes mesures avec QuantumScript\n",
    "\n",
    "Voici un exemple montrant comment utiliser différentes fonctions de mesure (`qml.probs`, `qml.expval`, `qml.sample`) dans un même circuit avec QuantumScript.\n"
   ]
  },
  {
   "cell_type": "code",
   "metadata": {
    "ExecuteTime": {
     "end_time": "2025-05-08T18:12:09.750650Z",
     "start_time": "2025-05-08T18:12:09.736872Z"
    }
   },
   "source": [
    "# example\n",
    "dev = qml.device(\"default.qubit\", wires=2, shots=20) # 1) Définir le device\n",
    "\n",
    "\n",
    "operations = [qml.X(wires=1)] # 2) Construire la liste d'opérations\n",
    "\n",
    "measurements = [\n",
    "    qml.sample(wires=[0, 1]), # 3) Définir la mesure (ici, on veut l'échantillonnage)\n",
    "    qml.counts(wires=[0, 1]), # 3) Définir la mesure (ici, on veut les comptes)\n",
    "    qml.probs(wires=[0, 1]),  # 3) Définir la mesure (ici, on veut les probabilités)\n",
    "    qml.expval(qml.Z(wires=0)), qml.expval(qml.Z(wires=1)), # 3) Définir la mesure (ici, on veut la valeur d'espérance)\n",
    "    ] # 3) Définir la mesure (ici, on veut les comptes et les probabilités)\n",
    "\n",
    "# 4) Créer le QuantumScript (spécifier les shots)\n",
    "qscript = QuantumScript(operations, measurements, shots=1)\n",
    "\n",
    "# 5) Exécuter en batch (ici un seul circuit)\n",
    "results = qml.execute([qscript], dev)\n",
    "\n",
    "print(results)  # renvoie une liste de résultats  ([qml.execute — PennyLane 0.41.0 documentation](https://docs.pennylane.ai/en/stable/code/api/pennylane.execute.html))\n"
   ],
   "outputs": [
    {
     "name": "stdout",
     "output_type": "stream",
     "text": [
      "((array([0, 1]), {np.str_('01'): np.int64(1)}, array([0., 1., 0., 0.]), np.float64(1.0), np.float64(-1.0)),)\n"
     ]
    }
   ],
   "execution_count": 42
  },
  {
   "cell_type": "markdown",
   "metadata": {},
   "source": [
    "PennyLane propose plusieurs types de fonctions de mesure.  \n",
    "Pour la liste complète et plus de détails, voir la documentation officielle :  \n",
    "https://docs.pennylane.ai/en/stable/introduction/measurements.html"
   ]
  },
  {
   "cell_type": "markdown",
   "metadata": {},
   "source": [
    "## Exercice 5 : Dégradation par le Bruit (Inspiré du Randomized Benchmarking)\n",
    "\n",
    "L’objectif est d’étudier comment la probabilité de retrouver l’état initial $|000\\rangle$ diminue avec la profondeur d’un circuit quantique soumis au bruit.\n",
    "\n",
    "Pour un circuit quantique à 4 qubits.\n",
    "\n",
    "1. **Construire une séquence de `n` couches répétées**, où chaque couche comprend :\n",
    "   - **Sous-couche 1-qubit** : appliquer une porte Clifford aléatoire (parmi X, Y, Z, H, S) sur chaque qubit.\n",
    "   - **Sous-couche d’intrication** : appliquer une porte `CZ` entre les qubits (0,1), (1,2) et (2,3).\n",
    "\n",
    "2. **Ajouter l’inverse du circuit** : appliquer les mêmes portes dans l’ordre inverse (en inversant chaque porte).\n",
    "\n",
    "3. **Mesurer tous les qubits**.\n",
    "\n",
    "4. **Exécuter le circuit sur le simulateur bruité** `fakeQuebec`.\n",
    "\n",
    "5. **Définir une liste de profondeurs** :  \n",
    "   `depths = [1, 5, 10, 15, 20]`\n",
    "\n",
    "6. **Pour chaque profondeur**, mesurer la probabilité de retrouver l’état $|000\\rangle$ en sortie.  \n",
    "   - Sans bruit, cette probabilité serait 1.\n",
    "   - Avec bruit, elle décroît avec la profondeur.\n",
    "\n",
    "7. **Visualiser les résultats** : tracer la probabilité de $|000\\rangle$ en fonction de la profondeur.\n"
   ]
  },
  {
   "cell_type": "markdown",
   "metadata": {},
   "source": [
    "## PennyLane utilise le Big Endian pour l’ordre des qubits\n",
    "\n",
    "Les simulateurs PennyLane utilisent un ordre **big endian** pour les registres de qubits.  \n",
    "Cela signifie que le qubit d’indice le plus bas (wire 0) correspond au bit le plus à gauche dans la représentation binaire des états.\n",
    "\n",
    "Par exemple, l’état `|01⟩` dans PennyLane correspond à `wire 0 = 0`, `wire 1 = 1` (soit le bit de gauche à droite).  \n",
    "C’est l’inverse de Qiskit, qui utilise le **little endian** (le qubit 0 est le bit de droite).\n",
    "\n",
    "**Résumé** :  \n",
    "- **PennyLane** : big endian ($|q_0 q_1 ... q_n⟩$)\n",
    "- **Qiskit** : little endian ($|... q_1 q_0⟩$)"
   ]
  },
  {
   "cell_type": "code",
   "metadata": {
    "ExecuteTime": {
     "end_time": "2025-05-08T18:17:00.577989Z",
     "start_time": "2025-05-08T18:17:00.471569Z"
    }
   },
   "source": [
    "import pennylane as qml\n",
    "import matplotlib.pyplot as plt\n",
    "\n",
    "# Device 2 qubits, 1 shot\n",
    "dev = qml.device(\"default.qubit\", wires=2, shots=1000)\n",
    "\n",
    "@qml.qnode(dev)\n",
    "def circuit(profondeur):\n",
    "    portes = [qml.X(wires=1), qml.Z(wires=0), qml.H(wires=0), qml.Y(wires=1), qml.S(wires=0)]\n",
    "    for i in range(profondeur):\n",
    "        \n",
    "    return qml.sample(wires=[0, 1])\n",
    "\n",
    "result = circuit()\n",
    "print(\"Résultat (1 shot) :\", result)\n",
    "\n",
    "# Visualisation simple façon PennyLane\n",
    "states = [\"00\", \"01\", \"10\", \"11\"]\n",
    "counts = [0, 0, 0, 0]\n",
    "idx = int(result[0]) * 2 + int(result[1])\n",
    "counts[idx] = 1\n",
    "\n",
    "plt.bar(states, counts, color=\"mediumslateblue\")\n",
    "plt.xlabel(\"États mesurés\")\n",
    "plt.ylabel(\"Nombre d'occurrences\")\n",
    "plt.title(\"Résultat d'une mesure (1 shot)\")\n",
    "plt.show()"
   ],
   "outputs": [
    {
     "name": "stdout",
     "output_type": "stream",
     "text": [
      "Résultat (1 shot) : [1 0]\n"
     ]
    },
    {
     "data": {
      "text/plain": [
       "<Figure size 640x480 with 1 Axes>"
      ],
      "image/png": "[encoded data removed]"
     },
     "metadata": {},
     "output_type": "display_data"
    }
   ],
   "execution_count": 43
  },
  {
   "cell_type": "markdown",
   "metadata": {},
   "source": [
    "# Compilation et Transpilation dans PennyLane\n",
    "\n",
    "Lorsque l’on souhaite exécuter un circuit quantique sur du matériel réel (ou un simulateur réaliste), il faut l’adapter à des contraintes physiques :  \n",
    "- **Ensemble de portes limité** : seules certaines portes sont natives, les autres doivent être décomposées.\n",
    "- **Connectivité des qubits** : toutes les paires de qubits ne sont pas connectées, il faut parfois insérer des SWAPs.\n",
    "- **Optimisation** : il est important de réduire la profondeur et le nombre de portes pour limiter les erreurs.\n"
   ]
  },
  {
   "cell_type": "markdown",
   "metadata": {},
   "source": [
    "## Compilation (`qml.compile`)\n",
    "La **compilation** consiste à transformer et optimiser un circuit pour le simplifier ou le rendre compatible avec un jeu de portes donné.  \n",
    "PennyLane propose le décorateur `@qml.compile` ou la fonction `qml.compile(...)` pour appliquer automatiquement un pipeline de transformations :\n",
    "- Fusion de rotations,\n",
    "- Annulation de portes inverses,\n",
    "- Réorganisation des portes contrôlées, etc.\n",
    "\n",
    "On peut aussi cibler un jeu de portes natif avec l’argument `basis_set`."
   ]
  },
  {
   "cell_type": "code",
   "execution_count": 63,
   "metadata": {},
   "outputs": [
    {
     "name": "stdout",
     "output_type": "stream",
     "text": [
      "0: ──H──RX(0.60)─────────────────┤  <Z>\n",
      "1: ──H─╭X─────────────────────╭●─┤     \n",
      "2: ──H─╰●─────────RX(0.30)──Y─╰Z─┤     \n"
     ]
    }
   ],
   "source": [
    "dev = qml.device('default.qubit', wires=[0, 1, 2])\n",
    "\n",
    "@qml.compile\n",
    "@qml.qnode(dev)\n",
    "def circuit(x, y, z):\n",
    "    qml.Hadamard(wires=0)\n",
    "    qml.Hadamard(wires=1)\n",
    "    qml.Hadamard(wires=2)\n",
    "    qml.RZ(z, wires=2)\n",
    "    qml.CNOT(wires=[2, 1])\n",
    "    qml.RX(z, wires=0)\n",
    "    qml.CNOT(wires=[1, 0])\n",
    "    qml.RX(x, wires=0)\n",
    "    qml.CNOT(wires=[1, 0])\n",
    "    qml.RZ(-z, wires=2)\n",
    "    qml.RX(y, wires=2)\n",
    "    qml.Y(wires=2)\n",
    "    qml.CZ(wires=[1, 2])\n",
    "    return qml.expval(qml.Z(wires=0))\n",
    "\n",
    "print(qml.draw(circuit)(0.2, 0.3, 0.4))"
   ]
  },
  {
   "cell_type": "markdown",
   "metadata": {},
   "source": [
    "## Transpilation (`qml.transforms.transpile`)\n",
    "La **transpilation** adapte un circuit à la topologie d’un matériel :  \n",
    "- Respect de la connectivité (insertion de SWAPs),\n",
    "- Réordonnancement des opérations,\n",
    "- Décomposition selon un jeu de portes spécifiques.\n",
    "\n",
    "PennyLane propose `qml.transforms.transpile`, et utilise la transpilation de Qiskit pour les devices IBM.\n",
    "\n",
    "Imaginons le circuit suivant :"
   ]
  },
  {
   "cell_type": "code",
   "execution_count": 65,
   "metadata": {},
   "outputs": [
    {
     "name": "stdout",
     "output_type": "stream",
     "text": [
      "0: ─╭●──────────╭●─┤ ╭Probs\n",
      "1: ─╰X─╭●─╭●────│──┤ ├Probs\n",
      "2: ─╭●─│──╰X─╭●─│──┤ ├Probs\n",
      "3: ─╰X─╰X────╰X─╰X─┤ ╰Probs\n"
     ]
    }
   ],
   "source": [
    "def circuit():\n",
    "    qml.CNOT(wires=[0, 1])\n",
    "    qml.CNOT(wires=[2, 3])\n",
    "    qml.CNOT(wires=[1, 3])\n",
    "    qml.CNOT(wires=[1, 2])\n",
    "    qml.CNOT(wires=[2, 3])\n",
    "    qml.CNOT(wires=[0, 3])\n",
    "    return qml.probs(wires=[0, 1, 2, 3])\n",
    "\n",
    "qnode = qml.QNode(circuit, dev)\n",
    "print(qml.draw(qnode)())"
   ]
  },
  {
   "cell_type": "markdown",
   "metadata": {},
   "source": [
    "Et supposons un appareil dont la connectivité suit ce graphe :\n",
    "\n",
    "```\n",
    "0 --- 1\n",
    "|     |\n",
    "2 --- 3\n",
    "```\n",
    "\n",
    "On encode cette connectivité sous forme de liste d’arêtes, et on transpile :"
   ]
  },
  {
   "cell_type": "code",
   "execution_count": 64,
   "metadata": {},
   "outputs": [
    {
     "name": "stdout",
     "output_type": "stream",
     "text": [
      "0: ─╭●────────────────╭●─┤ ╭Probs\n",
      "1: ─╰X─╭●───────╭●────│──┤ ├Probs\n",
      "2: ─╭●─│──╭SWAP─│──╭X─╰X─┤ ├Probs\n",
      "3: ─╰X─╰X─╰SWAP─╰X─╰●────┤ ╰Probs\n"
     ]
    }
   ],
   "source": [
    "def circuit():\n",
    "    qml.CNOT(wires=[0, 1])\n",
    "    qml.CNOT(wires=[2, 3])\n",
    "    qml.CNOT(wires=[1, 3])\n",
    "    qml.CNOT(wires=[1, 2])\n",
    "    qml.CNOT(wires=[2, 3])\n",
    "    qml.CNOT(wires=[0, 3])\n",
    "    return qml.probs(wires=[0, 1, 2, 3])\n",
    "\n",
    "dev = qml.device(\"default.qubit\", wires=[0, 1, 2, 3])\n",
    "coupling_map = [(0, 1), (1, 3), (3, 2), (2, 0)]\n",
    "\n",
    "transpiled_circuit = qml.transforms.transpile(circuit, coupling_map=coupling_map)\n",
    "qnode = qml.QNode(transpiled_circuit, dev)\n",
    "\n",
    "print(qml.draw(qnode)())"
   ]
  },
  {
   "cell_type": "markdown",
   "metadata": {},
   "source": [
    "Pour plus de détails, voir la [documentation officielle PennyLane sur la compilation](https://docs.pennylane.ai/en/stable/introduction/compiling_circuits.html)."
   ]
  },
  {
   "cell_type": "markdown",
   "metadata": {},
   "source": [
    "# Différentiation et Gradients\n",
    "\n",
    "L’un des grands avantages de PennyLane est la possibilité de calculer automatiquement les **gradients** des circuits quantiques, ce qui est essentiel pour l’optimisation et l’apprentissage automatique quantique.\n",
    "\n",
    "PennyLane permet de différencier les circuits par rapport à leurs paramètres, en utilisant différentes méthodes (analytique, numérique, ou via le backpropagation).\n"
   ]
  },
  {
   "cell_type": "code",
   "execution_count": 66,
   "metadata": {},
   "outputs": [
    {
     "name": "stdout",
     "output_type": "stream",
     "text": [
      "Gradient pour x=0.5 : -0.479425538604203\n"
     ]
    }
   ],
   "source": [
    "import pennylane as qml\n",
    "from pennylane import numpy as np\n",
    "\n",
    "dev = qml.device(\"default.qubit\", wires=1)\n",
    "\n",
    "@qml.qnode(dev)\n",
    "def circuit(x):\n",
    "    qml.RX(x, wires=0)\n",
    "    return qml.expval(qml.Z(0))\n",
    "\n",
    "x = np.array(0.5, requires_grad=True)\n",
    "grad_fn = qml.grad(circuit)\n",
    "print(\"Gradient pour x=0.5 :\", grad_fn(x))"
   ]
  },
  {
   "cell_type": "markdown",
   "metadata": {},
   "source": [
    "## Pour aller plus loin\n",
    "\n",
    "- [PennyLane – Differentiation](https://docs.pennylane.ai/en/stable/introduction/differentiation.html)\n"
   ]
  },
  {
   "cell_type": "markdown",
   "metadata": {},
   "source": [
    "# Visualisation des Circuits dans PennyLane\n",
    "\n",
    "Comprendre la structure d'un circuit quantique est essentiel pour le débogage et l'analyse. PennyLane offre plusieurs façons de visualiser vos circuits.\n",
    "\n",
    "\n",
    "## Visualisation d'une fonction quantique ou d'un QNode\n",
    "\n",
    "La manière la plus courante est de passer directement votre fonction quantique (ou un QNode déjà créé) aux fonctions de dessin.\n",
    "\n",
    "*   **`qml.draw(circuit_function_or_qnode)` :** Génère une représentation textuelle (ASCII) du circuit.\n",
    "\n",
    "*   **`qml.draw_mpl(circuit_function_or_qnode, style=..., decimals=...)` :** Crée un dessin graphique de haute qualité en utilisant Matplotlib.\n",
    "\n",
    "### a) Fonction quantique simple"
   ]
  },
  {
   "cell_type": "code",
   "execution_count": 68,
   "metadata": {},
   "outputs": [],
   "source": [
    "import pennylane as qml\n",
    "from pennylane import numpy as np\n",
    "import matplotlib.pyplot as plt\n",
    "\n",
    "def simple_circuit_func(phi, theta):\n",
    "    qml.Hadamard(wires=0)\n",
    "    qml.RX(phi, wires=0)\n",
    "    qml.RY(theta, wires=1)\n",
    "    qml.CNOT(wires=[0, 1])\n",
    "    # Pas de return nécessaire si on ne dessine que la structure via la fonction\n",
    "    # Mais un QNode aurait besoin d'un return qml.measurement(...)\n"
   ]
  },
  {
   "cell_type": "markdown",
   "metadata": {},
   "source": [
    "Visualisation textuelle"
   ]
  },
  {
   "cell_type": "code",
   "execution_count": null,
   "metadata": {},
   "outputs": [
    {
     "name": "stdout",
     "output_type": "stream",
     "text": [
      "0: ──H─────────RX(1.57)─╭●─┤  \n",
      "1: ──RY(0.79)───────────╰X─┤  \n"
     ]
    }
   ],
   "source": [
    "params_visu = [np.pi/2, np.pi/4]\n",
    "\n",
    "# On appelle la fonction retournée par qml.draw avec les paramètres\n",
    "text_drawing_func = qml.draw(simple_circuit_func)(*params_visu)\n",
    "print(text_drawing_func)"
   ]
  },
  {
   "cell_type": "markdown",
   "metadata": {},
   "source": [
    "**Visualisation Matplotlib**\n",
    "\n",
    "`qml.draw_mpl` accepte des arguments pour personnaliser l'apparence :\n",
    "\n",
    "*   **`style` :**\n",
    "    *   `'default'` (par défaut) : Style coloré bleu.\n",
    "    *   `'black_and_white'` : Style monochrome.\n",
    "  \n",
    "*   **`decimals` :** Nombre de décimales à afficher pour les valeurs des paramètres de portes (ex: angles de rotation).\n",
    "*   \n"
   ]
  },
  {
   "cell_type": "code",
   "execution_count": 72,
   "metadata": {},
   "outputs": [
    {
     "name": "stdout",
     "output_type": "stream",
     "text": [
      "\n",
      "--- Dessin Matplotlib (qml.draw_mpl) du QNode ---\n"
     ]
    },
    {
     "ename": "ImportError",
     "evalue": "Module matplotlib is required for ``MPLDrawer`` class. You can install matplotlib via \n\n   pip install matplotlib",
     "output_type": "error",
     "traceback": [
      "\u001B[0;31m---------------------------------------------------------------------------\u001B[0m",
      "\u001B[0;31mImportError\u001B[0m                               Traceback (most recent call last)",
      "Cell \u001B[0;32mIn[72], line 2\u001B[0m\n\u001B[1;32m      1\u001B[0m \u001B[38;5;28mprint\u001B[39m(\u001B[38;5;124m\"\u001B[39m\u001B[38;5;130;01m\\n\u001B[39;00m\u001B[38;5;124m--- Dessin Matplotlib (qml.draw_mpl) du QNode ---\u001B[39m\u001B[38;5;124m\"\u001B[39m)\n\u001B[0;32m----> 2\u001B[0m fig, ax \u001B[38;5;241m=\u001B[39m qml\u001B[38;5;241m.\u001B[39mdraw_mpl(simple_circuit_func)(\u001B[38;5;241m*\u001B[39mparams_visu)\n\u001B[1;32m      3\u001B[0m ax\u001B[38;5;241m.\u001B[39mset_title(\u001B[38;5;124m\"\u001B[39m\u001B[38;5;124mCircuit Simple (via QNode)\u001B[39m\u001B[38;5;124m\"\u001B[39m)\n\u001B[1;32m      4\u001B[0m plt\u001B[38;5;241m.\u001B[39mshow()\n",
      "File \u001B[0;32m~/.julia/conda/3/aarch64/lib/python3.12/site-packages/pennylane/drawer/draw.py:715\u001B[0m, in \u001B[0;36mdraw_mpl.<locals>.wrapper\u001B[0;34m(*args, **kwargs)\u001B[0m\n\u001B[1;32m    712\u001B[0m     \u001B[38;5;28;01mexcept\u001B[39;00m \u001B[38;5;167;01mTypeError\u001B[39;00m:\n\u001B[1;32m    713\u001B[0m         _wire_order \u001B[38;5;241m=\u001B[39m tape\u001B[38;5;241m.\u001B[39mwires\n\u001B[0;32m--> 715\u001B[0m \u001B[38;5;28;01mreturn\u001B[39;00m tape_mpl(\n\u001B[1;32m    716\u001B[0m     tape,\n\u001B[1;32m    717\u001B[0m     wire_order\u001B[38;5;241m=\u001B[39m_wire_order,\n\u001B[1;32m    718\u001B[0m     show_all_wires\u001B[38;5;241m=\u001B[39mshow_all_wires,\n\u001B[1;32m    719\u001B[0m     decimals\u001B[38;5;241m=\u001B[39mdecimals,\n\u001B[1;32m    720\u001B[0m     max_length\u001B[38;5;241m=\u001B[39mmax_length,\n\u001B[1;32m    721\u001B[0m     style\u001B[38;5;241m=\u001B[39mstyle,\n\u001B[1;32m    722\u001B[0m     fig\u001B[38;5;241m=\u001B[39mfig,\n\u001B[1;32m    723\u001B[0m     level\u001B[38;5;241m=\u001B[39mlevel,\n\u001B[1;32m    724\u001B[0m     \u001B[38;5;241m*\u001B[39m\u001B[38;5;241m*\u001B[39mkwargs,\n\u001B[1;32m    725\u001B[0m )\n",
      "File \u001B[0;32m~/.julia/conda/3/aarch64/lib/python3.12/site-packages/pennylane/drawer/tape_mpl.py:538\u001B[0m, in \u001B[0;36mtape_mpl\u001B[0;34m(tape, wire_order, show_all_wires, decimals, style, fig, max_length, **kwargs)\u001B[0m\n\u001B[1;32m    535\u001B[0m     _set_style(style)\n\u001B[1;32m    537\u001B[0m \u001B[38;5;28;01mtry\u001B[39;00m:\n\u001B[0;32m--> 538\u001B[0m     \u001B[38;5;28;01mreturn\u001B[39;00m _tape_mpl(\n\u001B[1;32m    539\u001B[0m         tape,\n\u001B[1;32m    540\u001B[0m         wire_order\u001B[38;5;241m=\u001B[39mwire_order,\n\u001B[1;32m    541\u001B[0m         show_all_wires\u001B[38;5;241m=\u001B[39mshow_all_wires,\n\u001B[1;32m    542\u001B[0m         decimals\u001B[38;5;241m=\u001B[39mdecimals,\n\u001B[1;32m    543\u001B[0m         fig\u001B[38;5;241m=\u001B[39mfig,\n\u001B[1;32m    544\u001B[0m         max_length\u001B[38;5;241m=\u001B[39mmax_length,\n\u001B[1;32m    545\u001B[0m         \u001B[38;5;241m*\u001B[39m\u001B[38;5;241m*\u001B[39mkwargs,\n\u001B[1;32m    546\u001B[0m     )\n\u001B[1;32m    547\u001B[0m \u001B[38;5;28;01mfinally\u001B[39;00m:\n\u001B[1;32m    548\u001B[0m     \u001B[38;5;28;01mif\u001B[39;00m update_style:\n\u001B[1;32m    549\u001B[0m         \u001B[38;5;66;03m# we don't want to mess with how it modifies whether the interface is interactive\u001B[39;00m\n\u001B[1;32m    550\u001B[0m         \u001B[38;5;66;03m# but we want to restore everything else\u001B[39;00m\n",
      "File \u001B[0;32m~/.julia/conda/3/aarch64/lib/python3.12/site-packages/pennylane/drawer/tape_mpl.py:307\u001B[0m, in \u001B[0;36m_tape_mpl\u001B[0;34m(tape, wire_order, show_all_wires, max_length, **kwargs)\u001B[0m\n\u001B[1;32m    298\u001B[0m config \u001B[38;5;241m=\u001B[39m _Config(\n\u001B[1;32m    299\u001B[0m     decimals\u001B[38;5;241m=\u001B[39mkwargs\u001B[38;5;241m.\u001B[39mget(\u001B[38;5;124m\"\u001B[39m\u001B[38;5;124mdecimals\u001B[39m\u001B[38;5;124m\"\u001B[39m, \u001B[38;5;28;01mNone\u001B[39;00m),\n\u001B[1;32m    300\u001B[0m     active_wire_notches\u001B[38;5;241m=\u001B[39mkwargs\u001B[38;5;241m.\u001B[39mget(\u001B[38;5;124m\"\u001B[39m\u001B[38;5;124mactive_wire_notches\u001B[39m\u001B[38;5;124m\"\u001B[39m, \u001B[38;5;28;01mTrue\u001B[39;00m),\n\u001B[0;32m   (...)\u001B[0m\n\u001B[1;32m    303\u001B[0m     cwire_wires\u001B[38;5;241m=\u001B[39mcwire_wires,\n\u001B[1;32m    304\u001B[0m )\n\u001B[1;32m    306\u001B[0m \u001B[38;5;28;01mif\u001B[39;00m max_length \u001B[38;5;129;01mis\u001B[39;00m \u001B[38;5;28;01mNone\u001B[39;00m:\n\u001B[0;32m--> 307\u001B[0m     \u001B[38;5;28;01mreturn\u001B[39;00m _draw_layers(layers, tape\u001B[38;5;241m.\u001B[39mmeasurements, config\u001B[38;5;241m=\u001B[39mconfig, wire_map\u001B[38;5;241m=\u001B[39mwire_map, \u001B[38;5;241m*\u001B[39m\u001B[38;5;241m*\u001B[39mkwargs)\n\u001B[1;32m    309\u001B[0m layer_count \u001B[38;5;241m=\u001B[39m \u001B[38;5;28mlen\u001B[39m(layers)\n\u001B[1;32m    310\u001B[0m \u001B[38;5;28;01mreturn\u001B[39;00m [\n\u001B[1;32m    311\u001B[0m     _draw_layers(\n\u001B[1;32m    312\u001B[0m         layers\u001B[38;5;241m=\u001B[39mlayers[i : i \u001B[38;5;241m+\u001B[39m max_length],\n\u001B[0;32m   (...)\u001B[0m\n\u001B[1;32m    319\u001B[0m     \u001B[38;5;28;01mfor\u001B[39;00m i \u001B[38;5;129;01min\u001B[39;00m \u001B[38;5;28mrange\u001B[39m(\u001B[38;5;241m0\u001B[39m, layer_count, max_length)\n\u001B[1;32m    320\u001B[0m ]\n",
      "File \u001B[0;32m~/.julia/conda/3/aarch64/lib/python3.12/site-packages/pennylane/drawer/tape_mpl.py:228\u001B[0m, in \u001B[0;36m_draw_layers\u001B[0;34m(layers, measurements, wire_map, config, starting_dots, **kwargs)\u001B[0m\n\u001B[1;32m    225\u001B[0m n_layers \u001B[38;5;241m=\u001B[39m \u001B[38;5;28mlen\u001B[39m(layers)\n\u001B[1;32m    226\u001B[0m n_wires \u001B[38;5;241m=\u001B[39m \u001B[38;5;28mlen\u001B[39m(wire_map)\n\u001B[0;32m--> 228\u001B[0m drawer \u001B[38;5;241m=\u001B[39m MPLDrawer(\n\u001B[1;32m    229\u001B[0m     n_layers\u001B[38;5;241m=\u001B[39mn_layers,\n\u001B[1;32m    230\u001B[0m     wire_map\u001B[38;5;241m=\u001B[39mwire_map,\n\u001B[1;32m    231\u001B[0m     c_wires\u001B[38;5;241m=\u001B[39m\u001B[38;5;28mlen\u001B[39m(config\u001B[38;5;241m.\u001B[39mbit_map),\n\u001B[1;32m    232\u001B[0m     wire_options\u001B[38;5;241m=\u001B[39mkwargs\u001B[38;5;241m.\u001B[39mget(\u001B[38;5;124m\"\u001B[39m\u001B[38;5;124mwire_options\u001B[39m\u001B[38;5;124m\"\u001B[39m, \u001B[38;5;28;01mNone\u001B[39;00m),\n\u001B[1;32m    233\u001B[0m     fig\u001B[38;5;241m=\u001B[39mkwargs\u001B[38;5;241m.\u001B[39mget(\u001B[38;5;124m\"\u001B[39m\u001B[38;5;124mfig\u001B[39m\u001B[38;5;124m\"\u001B[39m, \u001B[38;5;28;01mNone\u001B[39;00m),\n\u001B[1;32m    234\u001B[0m     starting_dots\u001B[38;5;241m=\u001B[39mstarting_dots,\n\u001B[1;32m    235\u001B[0m )\n\u001B[1;32m    237\u001B[0m \u001B[38;5;28;01mif\u001B[39;00m n_wires \u001B[38;5;241m==\u001B[39m \u001B[38;5;241m0\u001B[39m:\n\u001B[1;32m    238\u001B[0m     \u001B[38;5;28;01mreturn\u001B[39;00m drawer\u001B[38;5;241m.\u001B[39mfig, drawer\u001B[38;5;241m.\u001B[39max\n",
      "File \u001B[0;32m~/.julia/conda/3/aarch64/lib/python3.12/site-packages/pennylane/drawer/mpldrawer.py:274\u001B[0m, in \u001B[0;36mMPLDrawer.__init__\u001B[0;34m(self, n_layers, wire_map, c_wires, wire_options, figsize, fig, starting_dots)\u001B[0m\n\u001B[1;32m    262\u001B[0m \u001B[38;5;28;01mdef\u001B[39;00m \u001B[38;5;21m__init__\u001B[39m(\n\u001B[1;32m    263\u001B[0m     \u001B[38;5;28mself\u001B[39m,\n\u001B[1;32m    264\u001B[0m     n_layers,\n\u001B[0;32m   (...)\u001B[0m\n\u001B[1;32m    271\u001B[0m     starting_dots: \u001B[38;5;28mbool\u001B[39m \u001B[38;5;241m=\u001B[39m \u001B[38;5;28;01mFalse\u001B[39;00m,\n\u001B[1;32m    272\u001B[0m ):\n\u001B[1;32m    273\u001B[0m     \u001B[38;5;28;01mif\u001B[39;00m \u001B[38;5;129;01mnot\u001B[39;00m has_mpl:  \u001B[38;5;66;03m# pragma: no cover\u001B[39;00m\n\u001B[0;32m--> 274\u001B[0m         \u001B[38;5;28;01mraise\u001B[39;00m \u001B[38;5;167;01mImportError\u001B[39;00m(\n\u001B[1;32m    275\u001B[0m             \u001B[38;5;124m\"\u001B[39m\u001B[38;5;124mModule matplotlib is required for ``MPLDrawer`` class. \u001B[39m\u001B[38;5;124m\"\u001B[39m\n\u001B[1;32m    276\u001B[0m             \u001B[38;5;124m\"\u001B[39m\u001B[38;5;124mYou can install matplotlib via \u001B[39m\u001B[38;5;130;01m\\n\u001B[39;00m\u001B[38;5;130;01m\\n\u001B[39;00m\u001B[38;5;124m   pip install matplotlib\u001B[39m\u001B[38;5;124m\"\u001B[39m\n\u001B[1;32m    277\u001B[0m         )\n\u001B[1;32m    279\u001B[0m     \u001B[38;5;28mself\u001B[39m\u001B[38;5;241m.\u001B[39mn_layers \u001B[38;5;241m=\u001B[39m n_layers\n\u001B[1;32m    280\u001B[0m     \u001B[38;5;28mself\u001B[39m\u001B[38;5;241m.\u001B[39mn_wires \u001B[38;5;241m=\u001B[39m \u001B[38;5;28mlen\u001B[39m(wire_map)\n",
      "\u001B[0;31mImportError\u001B[0m: Module matplotlib is required for ``MPLDrawer`` class. You can install matplotlib via \n\n   pip install matplotlib"
     ]
    }
   ],
   "source": [
    "\n",
    "print(\"\\n--- Dessin Matplotlib (qml.draw_mpl) du QNode ---\")\n",
    "fig, ax = qml.draw_mpl(simple_circuit_func)(*params_visu)\n",
    "ax.set_title(\"Circuit Simple (via QNode)\")\n",
    "plt.show()"
   ]
  },
  {
   "cell_type": "markdown",
   "metadata": {},
   "source": [
    "### b) Visualisation QNode "
   ]
  },
  {
   "cell_type": "code",
   "execution_count": 74,
   "metadata": {},
   "outputs": [
    {
     "name": "stdout",
     "output_type": "stream",
     "text": [
      "0: ──H─────────RX(1.57)─╭●─┤  <Z>\n",
      "1: ──RY(0.79)───────────╰X─┤     \n"
     ]
    }
   ],
   "source": [
    "dev = qml.device('default.qubit', wires=2)\n",
    "\n",
    "@qml.qnode(dev)\n",
    "def simple_qnode(phi, theta):\n",
    "    simple_circuit_func(phi, theta) # Appelle la fonction pour le circuit\n",
    "    return qml.expval(qml.PauliZ(0)) # Ajout de la mesure\n",
    "\n",
    "print(qml.draw(simple_qnode)(*params_visu))"
   ]
  },
  {
   "cell_type": "code",
   "execution_count": null,
   "metadata": {},
   "outputs": [],
   "source": [
    "fig, ax = qml.draw_mpl(simple_qnode)(*params_visu)\n",
    "ax.set_title(\"Circuit Simple (via QNode)\")\n",
    "plt.show()"
   ]
  },
  {
   "cell_type": "markdown",
   "metadata": {},
   "source": [
    "\n",
    "### Visualisation d'un `QuantumScript`\n",
    "\n",
    "Un `QuantumScript` (ou `QuantumTape`) est une représentation bas niveau d'un circuit (une liste d'opérations et de mesures). Vous pouvez aussi le visualiser directement. \n",
    "\n",
    "*   **`qml.drawer.tape_text(tape, ...)` :** Pour une sortie textuelle.\n",
    "*   **`qml.drawer.tape_mpl(tape, ...)` :** Pour une sortie Matplotlib."
   ]
  },
  {
   "cell_type": "code",
   "execution_count": 75,
   "metadata": {},
   "outputs": [
    {
     "name": "stdout",
     "output_type": "stream",
     "text": [
      "0: ──H──RX─╭●─┤  <Z>\n",
      "1: ────────╰X─┤     \n"
     ]
    }
   ],
   "source": [
    "# Créer une liste d'opérations\n",
    "ops = [\n",
    "    qml.Hadamard(wires=0),\n",
    "    qml.RX(1.2345, wires=0),\n",
    "    qml.CNOT(wires=[0, 1])\n",
    "]\n",
    "# Définir une mesure (même si non utilisée pour le dessin structurel)\n",
    "measurements = [qml.expval(qml.PauliZ(0))]\n",
    "\n",
    "# Créer le QuantumScript\n",
    "qscript = qml.tape.QuantumScript(ops, measurements)\n",
    "\n",
    "print(qml.drawer.tape_text(qscript))"
   ]
  },
  {
   "cell_type": "code",
   "execution_count": 76,
   "metadata": {},
   "outputs": [
    {
     "ename": "ImportError",
     "evalue": "Module matplotlib is required for ``MPLDrawer`` class. You can install matplotlib via \n\n   pip install matplotlib",
     "output_type": "error",
     "traceback": [
      "\u001B[0;31m---------------------------------------------------------------------------\u001B[0m",
      "\u001B[0;31mImportError\u001B[0m                               Traceback (most recent call last)",
      "Cell \u001B[0;32mIn[76], line 1\u001B[0m\n\u001B[0;32m----> 1\u001B[0m fig, ax \u001B[38;5;241m=\u001B[39m qml\u001B[38;5;241m.\u001B[39mdrawer\u001B[38;5;241m.\u001B[39mtape_mpl(qscript)\n\u001B[1;32m      2\u001B[0m ax\u001B[38;5;241m.\u001B[39mset_title(\u001B[38;5;124m\"\u001B[39m\u001B[38;5;124mCircuit via QuantumScript\u001B[39m\u001B[38;5;124m\"\u001B[39m)\n\u001B[1;32m      3\u001B[0m plt\u001B[38;5;241m.\u001B[39mshow()\n",
      "File \u001B[0;32m~/.julia/conda/3/aarch64/lib/python3.12/site-packages/pennylane/drawer/tape_mpl.py:538\u001B[0m, in \u001B[0;36mtape_mpl\u001B[0;34m(tape, wire_order, show_all_wires, decimals, style, fig, max_length, **kwargs)\u001B[0m\n\u001B[1;32m    535\u001B[0m     _set_style(style)\n\u001B[1;32m    537\u001B[0m \u001B[38;5;28;01mtry\u001B[39;00m:\n\u001B[0;32m--> 538\u001B[0m     \u001B[38;5;28;01mreturn\u001B[39;00m _tape_mpl(\n\u001B[1;32m    539\u001B[0m         tape,\n\u001B[1;32m    540\u001B[0m         wire_order\u001B[38;5;241m=\u001B[39mwire_order,\n\u001B[1;32m    541\u001B[0m         show_all_wires\u001B[38;5;241m=\u001B[39mshow_all_wires,\n\u001B[1;32m    542\u001B[0m         decimals\u001B[38;5;241m=\u001B[39mdecimals,\n\u001B[1;32m    543\u001B[0m         fig\u001B[38;5;241m=\u001B[39mfig,\n\u001B[1;32m    544\u001B[0m         max_length\u001B[38;5;241m=\u001B[39mmax_length,\n\u001B[1;32m    545\u001B[0m         \u001B[38;5;241m*\u001B[39m\u001B[38;5;241m*\u001B[39mkwargs,\n\u001B[1;32m    546\u001B[0m     )\n\u001B[1;32m    547\u001B[0m \u001B[38;5;28;01mfinally\u001B[39;00m:\n\u001B[1;32m    548\u001B[0m     \u001B[38;5;28;01mif\u001B[39;00m update_style:\n\u001B[1;32m    549\u001B[0m         \u001B[38;5;66;03m# we don't want to mess with how it modifies whether the interface is interactive\u001B[39;00m\n\u001B[1;32m    550\u001B[0m         \u001B[38;5;66;03m# but we want to restore everything else\u001B[39;00m\n",
      "File \u001B[0;32m~/.julia/conda/3/aarch64/lib/python3.12/site-packages/pennylane/drawer/tape_mpl.py:307\u001B[0m, in \u001B[0;36m_tape_mpl\u001B[0;34m(tape, wire_order, show_all_wires, max_length, **kwargs)\u001B[0m\n\u001B[1;32m    298\u001B[0m config \u001B[38;5;241m=\u001B[39m _Config(\n\u001B[1;32m    299\u001B[0m     decimals\u001B[38;5;241m=\u001B[39mkwargs\u001B[38;5;241m.\u001B[39mget(\u001B[38;5;124m\"\u001B[39m\u001B[38;5;124mdecimals\u001B[39m\u001B[38;5;124m\"\u001B[39m, \u001B[38;5;28;01mNone\u001B[39;00m),\n\u001B[1;32m    300\u001B[0m     active_wire_notches\u001B[38;5;241m=\u001B[39mkwargs\u001B[38;5;241m.\u001B[39mget(\u001B[38;5;124m\"\u001B[39m\u001B[38;5;124mactive_wire_notches\u001B[39m\u001B[38;5;124m\"\u001B[39m, \u001B[38;5;28;01mTrue\u001B[39;00m),\n\u001B[0;32m   (...)\u001B[0m\n\u001B[1;32m    303\u001B[0m     cwire_wires\u001B[38;5;241m=\u001B[39mcwire_wires,\n\u001B[1;32m    304\u001B[0m )\n\u001B[1;32m    306\u001B[0m \u001B[38;5;28;01mif\u001B[39;00m max_length \u001B[38;5;129;01mis\u001B[39;00m \u001B[38;5;28;01mNone\u001B[39;00m:\n\u001B[0;32m--> 307\u001B[0m     \u001B[38;5;28;01mreturn\u001B[39;00m _draw_layers(layers, tape\u001B[38;5;241m.\u001B[39mmeasurements, config\u001B[38;5;241m=\u001B[39mconfig, wire_map\u001B[38;5;241m=\u001B[39mwire_map, \u001B[38;5;241m*\u001B[39m\u001B[38;5;241m*\u001B[39mkwargs)\n\u001B[1;32m    309\u001B[0m layer_count \u001B[38;5;241m=\u001B[39m \u001B[38;5;28mlen\u001B[39m(layers)\n\u001B[1;32m    310\u001B[0m \u001B[38;5;28;01mreturn\u001B[39;00m [\n\u001B[1;32m    311\u001B[0m     _draw_layers(\n\u001B[1;32m    312\u001B[0m         layers\u001B[38;5;241m=\u001B[39mlayers[i : i \u001B[38;5;241m+\u001B[39m max_length],\n\u001B[0;32m   (...)\u001B[0m\n\u001B[1;32m    319\u001B[0m     \u001B[38;5;28;01mfor\u001B[39;00m i \u001B[38;5;129;01min\u001B[39;00m \u001B[38;5;28mrange\u001B[39m(\u001B[38;5;241m0\u001B[39m, layer_count, max_length)\n\u001B[1;32m    320\u001B[0m ]\n",
      "File \u001B[0;32m~/.julia/conda/3/aarch64/lib/python3.12/site-packages/pennylane/drawer/tape_mpl.py:228\u001B[0m, in \u001B[0;36m_draw_layers\u001B[0;34m(layers, measurements, wire_map, config, starting_dots, **kwargs)\u001B[0m\n\u001B[1;32m    225\u001B[0m n_layers \u001B[38;5;241m=\u001B[39m \u001B[38;5;28mlen\u001B[39m(layers)\n\u001B[1;32m    226\u001B[0m n_wires \u001B[38;5;241m=\u001B[39m \u001B[38;5;28mlen\u001B[39m(wire_map)\n\u001B[0;32m--> 228\u001B[0m drawer \u001B[38;5;241m=\u001B[39m MPLDrawer(\n\u001B[1;32m    229\u001B[0m     n_layers\u001B[38;5;241m=\u001B[39mn_layers,\n\u001B[1;32m    230\u001B[0m     wire_map\u001B[38;5;241m=\u001B[39mwire_map,\n\u001B[1;32m    231\u001B[0m     c_wires\u001B[38;5;241m=\u001B[39m\u001B[38;5;28mlen\u001B[39m(config\u001B[38;5;241m.\u001B[39mbit_map),\n\u001B[1;32m    232\u001B[0m     wire_options\u001B[38;5;241m=\u001B[39mkwargs\u001B[38;5;241m.\u001B[39mget(\u001B[38;5;124m\"\u001B[39m\u001B[38;5;124mwire_options\u001B[39m\u001B[38;5;124m\"\u001B[39m, \u001B[38;5;28;01mNone\u001B[39;00m),\n\u001B[1;32m    233\u001B[0m     fig\u001B[38;5;241m=\u001B[39mkwargs\u001B[38;5;241m.\u001B[39mget(\u001B[38;5;124m\"\u001B[39m\u001B[38;5;124mfig\u001B[39m\u001B[38;5;124m\"\u001B[39m, \u001B[38;5;28;01mNone\u001B[39;00m),\n\u001B[1;32m    234\u001B[0m     starting_dots\u001B[38;5;241m=\u001B[39mstarting_dots,\n\u001B[1;32m    235\u001B[0m )\n\u001B[1;32m    237\u001B[0m \u001B[38;5;28;01mif\u001B[39;00m n_wires \u001B[38;5;241m==\u001B[39m \u001B[38;5;241m0\u001B[39m:\n\u001B[1;32m    238\u001B[0m     \u001B[38;5;28;01mreturn\u001B[39;00m drawer\u001B[38;5;241m.\u001B[39mfig, drawer\u001B[38;5;241m.\u001B[39max\n",
      "File \u001B[0;32m~/.julia/conda/3/aarch64/lib/python3.12/site-packages/pennylane/drawer/mpldrawer.py:274\u001B[0m, in \u001B[0;36mMPLDrawer.__init__\u001B[0;34m(self, n_layers, wire_map, c_wires, wire_options, figsize, fig, starting_dots)\u001B[0m\n\u001B[1;32m    262\u001B[0m \u001B[38;5;28;01mdef\u001B[39;00m \u001B[38;5;21m__init__\u001B[39m(\n\u001B[1;32m    263\u001B[0m     \u001B[38;5;28mself\u001B[39m,\n\u001B[1;32m    264\u001B[0m     n_layers,\n\u001B[0;32m   (...)\u001B[0m\n\u001B[1;32m    271\u001B[0m     starting_dots: \u001B[38;5;28mbool\u001B[39m \u001B[38;5;241m=\u001B[39m \u001B[38;5;28;01mFalse\u001B[39;00m,\n\u001B[1;32m    272\u001B[0m ):\n\u001B[1;32m    273\u001B[0m     \u001B[38;5;28;01mif\u001B[39;00m \u001B[38;5;129;01mnot\u001B[39;00m has_mpl:  \u001B[38;5;66;03m# pragma: no cover\u001B[39;00m\n\u001B[0;32m--> 274\u001B[0m         \u001B[38;5;28;01mraise\u001B[39;00m \u001B[38;5;167;01mImportError\u001B[39;00m(\n\u001B[1;32m    275\u001B[0m             \u001B[38;5;124m\"\u001B[39m\u001B[38;5;124mModule matplotlib is required for ``MPLDrawer`` class. \u001B[39m\u001B[38;5;124m\"\u001B[39m\n\u001B[1;32m    276\u001B[0m             \u001B[38;5;124m\"\u001B[39m\u001B[38;5;124mYou can install matplotlib via \u001B[39m\u001B[38;5;130;01m\\n\u001B[39;00m\u001B[38;5;130;01m\\n\u001B[39;00m\u001B[38;5;124m   pip install matplotlib\u001B[39m\u001B[38;5;124m\"\u001B[39m\n\u001B[1;32m    277\u001B[0m         )\n\u001B[1;32m    279\u001B[0m     \u001B[38;5;28mself\u001B[39m\u001B[38;5;241m.\u001B[39mn_layers \u001B[38;5;241m=\u001B[39m n_layers\n\u001B[1;32m    280\u001B[0m     \u001B[38;5;28mself\u001B[39m\u001B[38;5;241m.\u001B[39mn_wires \u001B[38;5;241m=\u001B[39m \u001B[38;5;28mlen\u001B[39m(wire_map)\n",
      "\u001B[0;31mImportError\u001B[0m: Module matplotlib is required for ``MPLDrawer`` class. You can install matplotlib via \n\n   pip install matplotlib"
     ]
    }
   ],
   "source": [
    "fig, ax = qml.drawer.tape_mpl(qscript)\n",
    "ax.set_title(\"Circuit via QuantumScript\")\n",
    "plt.show()"
   ]
  },
  {
   "cell_type": "markdown",
   "metadata": {},
   "source": [
    "## Pour aller plus loin :**\n",
    "\n",
    "*   Documentation principale du module `qml.drawer` : [https://docs.pennylane.ai/en/stable/code/qml_drawer.html](https://docs.pennylane.ai/en/stable/code/qml_drawer.html)\n",
    "\n",
    "*   Styles actuellement disponibles (détaillés dans la doc ci-dessus) : [Lien direct vers la section styles](https://docs.pennylane.ai/en/stable/code/qml_drawer.html#currently-available-styles)\n"
   ]
  }
 ],
 "metadata": {
  "kernelspec": {
   "display_name": "base",
   "language": "python",
   "name": "python3"
  },
  "language_info": {
   "codemirror_mode": {
    "name": "ipython",
    "version": 3
   },
   "file_extension": ".py",
   "mimetype": "text/x-python",
   "name": "python",
   "nbconvert_exporter": "python",
   "pygments_lexer": "ipython3",
   "version": "3.12.8"
  }
 },
 "nbformat": 4,
 "nbformat_minor": 2
}
